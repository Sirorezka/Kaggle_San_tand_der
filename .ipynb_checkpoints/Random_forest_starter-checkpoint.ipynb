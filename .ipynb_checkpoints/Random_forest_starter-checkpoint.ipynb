{
 "cells": [
  {
   "cell_type": "code",
   "execution_count": 31,
   "metadata": {
    "collapsed": true
   },
   "outputs": [],
   "source": [
    "import numpy as np # linear algebra\n",
    "import pandas as pd # data processing, CSV file I/O (e.g. pd.read_csv)\n",
    "import matplotlib.pyplot as plt\n",
    "from sklearn import cross_validation\n",
    "from sklearn.metrics import roc_auc_score\n",
    "from collections import defaultdict\n",
    "\n",
    "from sklearn.feature_selection import SelectKBest\n",
    "from sklearn.feature_selection import chi2, f_classif\n",
    "from sklearn.ensemble import RandomForestClassifier\n"
   ]
  },
  {
   "cell_type": "code",
   "execution_count": 4,
   "metadata": {
    "collapsed": false
   },
   "outputs": [
    {
     "name": "stdout",
     "output_type": "stream",
     "text": [
      "(76020, 370)\n",
      "(75818, 369)\n"
     ]
    }
   ],
   "source": [
    "training = pd.read_csv(\"Data/train.csv\", index_col=0)\n",
    "test = pd.read_csv(\"Data/test.csv\", index_col=0)\n",
    "\n",
    "print(training.shape)\n",
    "print(test.shape)"
   ]
  },
  {
   "cell_type": "code",
   "execution_count": 32,
   "metadata": {
    "collapsed": true
   },
   "outputs": [],
   "source": [
    "X = training.iloc[:,:-1]\n",
    "y = training.TARGET"
   ]
  },
  {
   "cell_type": "code",
   "execution_count": 33,
   "metadata": {
    "collapsed": false
   },
   "outputs": [
    {
     "data": {
      "text/plain": [
       "0.039568534596158902"
      ]
     },
     "execution_count": 33,
     "metadata": {},
     "output_type": "execute_result"
    }
   ],
   "source": [
    "training.head()\n",
    "sum(y==1)*1.0/y.shape[0]"
   ]
  },
  {
   "cell_type": "code",
   "execution_count": 34,
   "metadata": {
    "collapsed": false
   },
   "outputs": [
    {
     "name": "stdout",
     "output_type": "stream",
     "text": [
      "Index([u'var3', u'var15', u'imp_op_var39_comer_ult1',\n",
      "       u'imp_op_var39_comer_ult3', u'imp_op_var40_comer_ult1',\n",
      "       u'imp_op_var40_efect_ult1', u'imp_op_var40_efect_ult3',\n",
      "       u'imp_op_var40_ult1', u'imp_op_var41_comer_ult1',\n",
      "       u'imp_op_var41_comer_ult3',\n",
      "       ...\n",
      "       u'saldo_medio_var29_ult3', u'saldo_medio_var33_hace2',\n",
      "       u'saldo_medio_var33_hace3', u'saldo_medio_var33_ult1',\n",
      "       u'saldo_medio_var33_ult3', u'saldo_medio_var44_hace2',\n",
      "       u'saldo_medio_var44_hace3', u'saldo_medio_var44_ult1',\n",
      "       u'saldo_medio_var44_ult3', u'var38'],\n",
      "      dtype='object', length=300)\n"
     ]
    }
   ],
   "source": [
    "selectK = SelectKBest(f_classif, k=300)\n",
    "selectK.fit(X, y)\n",
    "X_sel = selectK.transform(X)\n",
    "\n",
    "features = X.columns[selectK.get_support()]\n",
    "print (features)"
   ]
  },
  {
   "cell_type": "code",
   "execution_count": 35,
   "metadata": {
    "collapsed": false,
    "scrolled": true
   },
   "outputs": [
    {
     "name": "stdout",
     "output_type": "stream",
     "text": [
      "Features sorted by their score:\n",
      "[(0.037, 'num_meses_var5_ult3'), (0.0369, 'num_var45_ult3'), (0.0289, 'var36'), (0.0257, 'num_meses_var39_vig_ult3'), (0.0252, 'num_var45_hace2'), (0.025, 'saldo_medio_var5_hace3'), (0.0231, 'saldo_medio_var5_hace2'), (0.0228, 'saldo_medio_var5_ult1'), (0.0226, 'var15'), (0.0206, 'num_var45_hace3'), (0.0195, 'num_var22_ult3'), (0.0192, 'saldo_var5'), (0.0183, 'num_var45_ult1'), (0.0147, 'saldo_medio_var5_ult3'), (0.0112, 'num_var35'), (0.0111, 'saldo_var30'), (0.0097, 'num_var22_hace2'), (0.0096, 'ind_var41_0'), (0.0094, 'num_var22_hace3'), (0.009, 'num_var4'), (0.0079, 'num_med_var45_ult3'), (0.0073, 'num_var41_0'), (0.0072, 'num_var22_ult1'), (0.0063, 'saldo_var42'), (0.0062, 'num_var39_0'), (0.0062, 'ind_var39_0'), (0.006, 'num_var30'), (0.0056, 'num_var5'), (0.0044, 'num_var42'), (0.0044, 'ind_var5'), (0.0039, 'var38'), (0.0039, 'ind_var30'), (0.0031, 'num_med_var22_ult3'), (0.0029, 'imp_op_var39_comer_ult3'), (0.0018, 'imp_op_var41_comer_ult3'), (0.0015, 'num_op_var39_ult3'), (0.0012, 'num_op_var39_comer_ult3'), (0.0011, 'num_op_var41_ult3'), (0.0011, 'ind_var43_emit_ult1'), (0.001, 'num_var8_0'), (0.0009, 'num_var42_0'), (0.0009, 'ind_var9_ult1'), (0.0009, 'ind_var24_0'), (0.0009, 'imp_op_var41_comer_ult1'), (0.0008, 'imp_op_var41_efect_ult3'), (0.0007, 'num_var13_corto'), (0.0007, 'num_op_var39_efect_ult3'), (0.0007, 'ind_var8_0'), (0.0007, 'ind_var37_cte'), (0.0007, 'imp_op_var39_efect_ult3'), (0.0006, 'saldo_medio_var12_ult3'), (0.0006, 'num_var37_0'), (0.0006, 'num_var30_0'), (0.0006, 'imp_op_var41_efect_ult1'), (0.0006, 'imp_op_var39_ult1'), (0.0005, 'num_op_var41_ult1'), (0.0005, 'num_op_var41_hace2'), (0.0005, 'num_op_var41_comer_ult1'), (0.0005, 'num_op_var39_ult1'), (0.0005, 'ind_var5_0'), (0.0005, 'imp_op_var41_ult1'), (0.0004, 'num_var43_emit_ult1'), (0.0004, 'ind_var9_cte_ult1'), (0.0004, 'ind_var13_0'), (0.0003, 'saldo_var26'), (0.0003, 'saldo_medio_var8_ult3'), (0.0003, 'saldo_medio_var8_hace2'), (0.0003, 'num_var5_0'), (0.0003, 'num_var37'), (0.0003, 'num_var14_0'), (0.0003, 'num_var13_largo_0'), (0.0003, 'num_var12_0'), (0.0003, 'num_var12'), (0.0003, 'num_op_var41_efect_ult1'), (0.0003, 'num_meses_var13_corto_ult3'), (0.0003, 'ind_var1_0'), (0.0003, 'ind_var13_largo'), (0.0003, 'ind_var13_corto'), (0.0003, 'imp_op_var39_efect_ult1'), (0.0002, 'num_var24_0'), (0.0002, 'num_var13_0'), (0.0002, 'num_var13'), (0.0002, 'ind_var10cte_ult1'), (0.0001, 'saldo_var13'), (0.0001, 'num_op_var41_efect_ult3'), (0.0001, 'num_op_var39_comer_ult1'), (0.0001, 'ind_var37_0'), (0.0001, 'ind_var13'), (0.0001, 'imp_var43_emit_ult1'), (0.0001, 'imp_trans_var37_ult1'), (0.0, 'var21'), (0.0, 'saldo_var6'), (0.0, 'saldo_var44'), (0.0, 'saldo_var40'), (0.0, 'saldo_var34'), (0.0, 'saldo_var33'), (0.0, 'saldo_var31'), (0.0, 'saldo_var29'), (-0.0, 'saldo_var25'), (0.0, 'saldo_var24'), (0.0, 'saldo_var20'), (0.0, 'saldo_var14'), (0.0, 'saldo_var13_medio'), (-0.0, 'saldo_var13_largo'), (-0.0, 'saldo_var13_corto'), (-0.0, 'saldo_medio_var8_ult1'), (0.0, 'saldo_medio_var8_hace3'), (0.0, 'saldo_medio_var44_ult3'), (0.0, 'saldo_medio_var44_ult1'), (0.0, 'saldo_medio_var44_hace3'), (0.0, 'saldo_medio_var44_hace2'), (0.0, 'saldo_medio_var33_ult3'), (0.0, 'saldo_medio_var33_ult1'), (0.0, 'saldo_medio_var33_hace3'), (0.0, 'saldo_medio_var33_hace2'), (0.0, 'saldo_medio_var29_ult3'), (0.0, 'saldo_medio_var29_ult1'), (0.0, 'saldo_medio_var29_hace2'), (0.0, 'saldo_medio_var17_hace2'), (0.0, 'saldo_medio_var13_medio_ult3'), (0.0, 'saldo_medio_var13_medio_ult1'), (0.0, 'saldo_medio_var13_medio_hace2'), (0.0, 'saldo_medio_var13_largo_ult3'), (0.0, 'saldo_medio_var13_largo_ult1'), (0.0, 'saldo_medio_var13_largo_hace3'), (0.0, 'saldo_medio_var13_largo_hace2'), (-0.0, 'saldo_medio_var13_corto_hace3'), (-0.0, 'saldo_medio_var13_corto_hace2'), (-0.0, 'saldo_medio_var12_hace3'), (-0.0, 'saldo_medio_var12_hace2'), (0.0, 'num_venta_var44_ult1'), (0.0, 'num_venta_var44_hace3'), (0.0, 'num_var8'), (0.0, 'num_var7_emit_ult1'), (0.0, 'num_var6_0'), (0.0, 'num_var6'), (0.0, 'num_var44_0'), (-0.0, 'num_var44'), (0.0, 'num_var40_0'), (0.0, 'num_var40'), (0.0, 'num_var39'), (0.0, 'num_var34_0'), (0.0, 'num_var34'), (0.0, 'num_var33_0'), (0.0, 'num_var33'), (0.0, 'num_var31_0'), (0.0, 'num_var31'), (0.0, 'num_var29_0'), (0.0, 'num_var29'), (0.0, 'num_var26_0'), (0.0, 'num_var26'), (-0.0, 'num_var25_0'), (-0.0, 'num_var25'), (0.0, 'num_var24'), (-0.0, 'num_var20_0'), (0.0, 'num_var20'), (-0.0, 'num_var1_0'), (0.0, 'num_var18_0'), (0.0, 'num_var18'), (0.0, 'num_var17_0'), (0.0, 'num_var17'), (0.0, 'num_var14'), (0.0, 'num_var13_medio_0'), (0.0, 'num_var13_medio'), (0.0, 'num_var13_largo'), (0.0, 'num_var1'), (0.0, 'num_trasp_var33_in_ult1'), (0.0, 'num_trasp_var33_in_hace3'), (0.0, 'num_trasp_var17_out_ult1'), (0.0, 'num_trasp_var17_in_ult1'), (0.0, 'num_trasp_var17_in_hace3'), (0.0, 'num_sal_var16_ult1'), (0.0, 'num_reemb_var17_ult1'), (0.0, 'num_reemb_var13_ult1'), (-0.0, 'num_op_var41_hace3'), (0.0, 'num_op_var40_ult1'), (0.0, 'num_op_var40_hace3'), (0.0, 'num_op_var40_hace2'), (0.0, 'num_op_var40_efect_ult3'), (0.0, 'num_op_var40_efect_ult1'), (-0.0, 'num_op_var40_comer_ult3'), (0.0, 'num_op_var40_comer_ult1'), (-0.0, 'num_op_var39_hace3'), (0.0, 'num_op_var39_hace2'), (-0.0, 'num_meses_var8_ult3'), (0.0, 'num_meses_var44_ult3'), (0.0, 'num_meses_var33_ult3'), (0.0, 'num_meses_var29_ult3'), (0.0, 'num_meses_var17_ult3'), (0.0, 'num_meses_var13_medio_ult3'), (0.0, 'num_meses_var13_largo_ult3'), (0.0, 'num_ent_var16_ult1'), (0.0, 'num_compra_var44_ult1'), (0.0, 'num_compra_var44_hace3'), (0.0, 'num_aport_var33_ult1'), (0.0, 'num_aport_var33_hace3'), (0.0, 'num_aport_var17_ult1'), (0.0, 'num_aport_var17_hace3'), (0.0, 'num_aport_var13_ult1'), (-0.0, 'num_aport_var13_hace3'), (-0.0, 'ind_var8'), (0.0, 'ind_var7_recib_ult1'), (0.0, 'ind_var7_emit_ult1'), (0.0, 'ind_var6_0'), (0.0, 'ind_var6'), (0.0, 'ind_var44_0'), (0.0, 'ind_var44'), (-0.0, 'ind_var40_0'), (0.0, 'ind_var40'), (0.0, 'ind_var39'), (0.0, 'ind_var34_0'), (0.0, 'ind_var34'), (0.0, 'ind_var33_0'), (0.0, 'ind_var33'), (-0.0, 'ind_var32_cte'), (0.0, 'ind_var31_0'), (0.0, 'ind_var31'), (-0.0, 'ind_var30_0'), (0.0, 'ind_var29_0'), (0.0, 'ind_var29'), (0.0, 'ind_var26_cte'), (0.0, 'ind_var26_0'), (-0.0, 'ind_var26'), (0.0, 'ind_var25_cte'), (0.0, 'ind_var25_0'), (0.0, 'ind_var25'), (-0.0, 'ind_var24'), (-0.0, 'ind_var20_0'), (-0.0, 'ind_var20'), (0.0, 'ind_var19'), (0.0, 'ind_var18_0'), (0.0, 'ind_var18'), (-0.0, 'ind_var17_0'), (0.0, 'ind_var17'), (0.0, 'ind_var14'), (0.0, 'ind_var13_medio_0'), (0.0, 'ind_var13_medio'), (0.0, 'ind_var13_largo_0'), (0.0, 'ind_var1'), (0.0, 'imp_venta_var44_ult1'), (0.0, 'imp_venta_var44_hace3'), (0.0, 'imp_var7_recib_ult1'), (0.0, 'imp_var7_emit_ult1'), (0.0, 'imp_trasp_var33_in_ult1'), (0.0, 'imp_trasp_var33_in_hace3'), (0.0, 'imp_trasp_var17_out_ult1'), (0.0, 'imp_trasp_var17_in_ult1'), (0.0, 'imp_trasp_var17_in_hace3'), (0.0, 'imp_reemb_var17_ult1'), (0.0, 'imp_reemb_var13_ult1'), (0.0, 'imp_op_var40_ult1'), (0.0, 'imp_op_var40_efect_ult3'), (0.0, 'imp_op_var40_efect_ult1'), (0.0, 'imp_op_var40_comer_ult1'), (0.0, 'imp_compra_var44_ult1'), (0.0, 'imp_compra_var44_hace3'), (0.0, 'imp_aport_var33_ult1'), (0.0, 'imp_aport_var33_hace3'), (0.0, 'imp_aport_var17_ult1'), (0.0, 'imp_aport_var13_ult1'), (0.0, 'imp_aport_var13_hace3'), (0.0, 'delta_num_venta_var44_1y3'), (0.0, 'delta_num_trasp_var33_in_1y3'), (0.0, 'delta_num_trasp_var17_out_1y3'), (0.0, 'delta_num_trasp_var17_in_1y3'), (0.0, 'delta_num_reemb_var13_1y3'), (0.0, 'delta_num_compra_var44_1y3'), (0.0, 'delta_num_aport_var17_1y3'), (-0.0, 'delta_num_aport_var13_1y3'), (0.0, 'delta_imp_venta_var44_1y3'), (0.0, 'delta_imp_trasp_var33_in_1y3'), (0.0, 'delta_imp_trasp_var17_out_1y3'), (0.0, 'delta_imp_trasp_var17_in_1y3'), (0.0, 'delta_imp_reemb_var13_1y3'), (0.0, 'delta_imp_compra_var44_1y3'), (0.0, 'delta_imp_aport_var17_1y3'), (0.0, 'delta_imp_aport_var13_1y3'), (0.0, 'delta_imp_amort_var34_1y3'), (0.0, 'delta_imp_amort_var18_1y3'), (-0.0001, 'var3'), (-0.0001, 'saldo_var8'), (-0.0001, 'saldo_var37'), (-0.0001, 'saldo_medio_var13_corto_ult3'), (-0.0001, 'saldo_medio_var13_corto_ult1'), (-0.0001, 'saldo_medio_var12_ult1'), (-0.0001, 'num_var13_corto_0'), (-0.0001, 'num_trasp_var11_ult1'), (-0.0001, 'num_op_var41_comer_ult3'), (-0.0001, 'num_op_var39_efect_ult1'), (-0.0001, 'num_meses_var12_ult3'), (-0.0001, 'ind_var43_recib_ult1'), (-0.0001, 'ind_var37'), (-0.0001, 'ind_var14_0'), (-0.0001, 'ind_var13_corto_0'), (-0.0001, 'ind_var12'), (-0.0001, 'ind_var10_ult1'), (-0.0001, 'imp_op_var39_comer_ult1'), (-0.0002, 'saldo_var12'), (-0.0002, 'num_var43_recib_ult1'), (-0.0003, 'ind_var12_0')]\n"
     ]
    }
   ],
   "source": [
    "rfc = RandomForestClassifier(n_estimators=100, random_state=1301, n_jobs=-1,\n",
    "   criterion='gini', class_weight='balanced')\n",
    "\n",
    "scores = defaultdict(list)\n",
    "\n",
    "y = np.array(y.astype(int)).ravel()\n",
    "\n",
    "# Based on http://blog.datadive.net/selecting-good-features-part-iii-random-forests/\n",
    "#crossvalidate the scores on a number of different random splits of the data\n",
    "for train_idx, test_idx in cross_validation.ShuffleSplit(len(X_sel), 3, .3):\n",
    "    X_train, X_test = X_sel[train_idx], X_sel[test_idx]\n",
    "    Y_train, Y_test = y[train_idx], y[test_idx]\n",
    "    r = rfc.fit(X_train, Y_train)\n",
    "    auc = roc_auc_score(Y_test, rfc.predict(X_test))\n",
    "    for i in range(X_sel.shape[1]):\n",
    "        X_t = X_test.copy()\n",
    "        np.random.shuffle(X_t[:, i])\n",
    "        shuff_auc = roc_auc_score(Y_test, rfc.predict(X_t))\n",
    "        scores[features[i]].append((auc-shuff_auc)/auc)\n",
    "print (\"Features sorted by their score:\")\n",
    "print (sorted([(round(np.mean(score), 4), feat) for\n",
    "              feat, score in scores.items()], reverse=True))\n",
    "    \n",
    "sel_test = selectK.transform(test)    \n",
    "y_pred = rfc.predict_proba(sel_test)\n",
    "\n",
    "submission = pd.DataFrame({\"ID\":test.index, \"TARGET\":y_pred[:,1]})\n",
    "submission.to_csv(\"predictions/submission_rfc.csv\", index=False)\n"
   ]
  },
  {
   "cell_type": "code",
   "execution_count": 36,
   "metadata": {
    "collapsed": false
   },
   "outputs": [],
   "source": [
    "y = np.array(y.astype(int)).ravel()"
   ]
  },
  {
   "cell_type": "code",
   "execution_count": null,
   "metadata": {
    "collapsed": true
   },
   "outputs": [],
   "source": []
  }
 ],
 "metadata": {
  "kernelspec": {
   "display_name": "Python 2",
   "language": "python",
   "name": "python2"
  },
  "language_info": {
   "codemirror_mode": {
    "name": "ipython",
    "version": 2
   },
   "file_extension": ".py",
   "mimetype": "text/x-python",
   "name": "python",
   "nbconvert_exporter": "python",
   "pygments_lexer": "ipython2",
   "version": "2.7.11"
  }
 },
 "nbformat": 4,
 "nbformat_minor": 0
}
