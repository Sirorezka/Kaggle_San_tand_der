{
 "cells": [
  {
   "cell_type": "code",
   "execution_count": 1,
   "metadata": {
    "collapsed": false
   },
   "outputs": [
    {
     "name": "stderr",
     "output_type": "stream",
     "text": [
      "/home/sirorezka/anaconda2/envs/py27/lib/python2.7/site-packages/sklearn/cross_validation.py:43: DeprecationWarning: This module has been deprecated in favor of the model_selection module into which all the refactored classes and functions are moved. Also note that the interface of the new CV iterators are different from that of this module. This module will be removed in 0.20.\n",
      "  \"This module will be removed in 0.20.\", DeprecationWarning)\n"
     ]
    }
   ],
   "source": [
    "import numpy as np\n",
    "import pandas as pd\n",
    "import xgboost \n",
    "from sklearn.cross_validation import train_test_split\n",
    "from sklearn.ensemble import RandomForestClassifier\n",
    "from sklearn.metrics import roc_auc_score\n",
    "from sklearn.pipeline import Pipeline\n",
    "from sklearn.svm import OneClassSVM\n",
    "from sklearn.neural_network import MLPClassifier  # Multi-layer Perceptron classifier.\n",
    "from sklearn.preprocessing import StandardScaler  # Scaler"
   ]
  },
  {
   "cell_type": "code",
   "execution_count": 2,
   "metadata": {
    "collapsed": false
   },
   "outputs": [
    {
     "name": "stdout",
     "output_type": "stream",
     "text": [
      "Object `sklearn.neural_network` not found.\n"
     ]
    }
   ],
   "source": [
    "sklearn.neural_network??"
   ]
  },
  {
   "cell_type": "code",
   "execution_count": 3,
   "metadata": {
    "collapsed": false
   },
   "outputs": [
    {
     "name": "stdout",
     "output_type": "stream",
     "text": [
      "(75818, 370)\n",
      "(76020, 371)\n"
     ]
    }
   ],
   "source": [
    "df_train = pd.read_csv(\"Data/train.csv\")\n",
    "df_test = pd.read_csv(\"Data/test.csv\")\n",
    "\n",
    "print(df_test.shape)\n",
    "print(df_train.shape)"
   ]
  },
  {
   "cell_type": "code",
   "execution_count": 4,
   "metadata": {
    "collapsed": false
   },
   "outputs": [
    {
     "name": "stdout",
     "output_type": "stream",
     "text": [
      "(75818, 336)\n",
      "(76020, 337)\n"
     ]
    }
   ],
   "source": [
    "# remove constant columns\n",
    "remove = []\n",
    "for col in df_train.columns:\n",
    "    if df_train[col].std() == 0:\n",
    "        remove.append(col)\n",
    "\n",
    "df_train.drop(remove, axis=1, inplace=True)\n",
    "df_test.drop(remove, axis=1, inplace=True)\n",
    "\n",
    "print(df_test.shape)\n",
    "print(df_train.shape)"
   ]
  },
  {
   "cell_type": "code",
   "execution_count": 5,
   "metadata": {
    "collapsed": false
   },
   "outputs": [
    {
     "data": {
      "text/html": [
       "<div>\n",
       "<table border=\"1\" class=\"dataframe\">\n",
       "  <thead>\n",
       "    <tr style=\"text-align: right;\">\n",
       "      <th></th>\n",
       "      <th>ID</th>\n",
       "      <th>var3</th>\n",
       "      <th>var15</th>\n",
       "      <th>imp_ent_var16_ult1</th>\n",
       "      <th>imp_op_var39_comer_ult1</th>\n",
       "      <th>imp_op_var39_comer_ult3</th>\n",
       "      <th>imp_op_var40_comer_ult1</th>\n",
       "      <th>imp_op_var40_comer_ult3</th>\n",
       "      <th>imp_op_var40_efect_ult1</th>\n",
       "      <th>imp_op_var40_efect_ult3</th>\n",
       "      <th>...</th>\n",
       "      <th>saldo_medio_var33_hace2</th>\n",
       "      <th>saldo_medio_var33_hace3</th>\n",
       "      <th>saldo_medio_var33_ult1</th>\n",
       "      <th>saldo_medio_var33_ult3</th>\n",
       "      <th>saldo_medio_var44_hace2</th>\n",
       "      <th>saldo_medio_var44_hace3</th>\n",
       "      <th>saldo_medio_var44_ult1</th>\n",
       "      <th>saldo_medio_var44_ult3</th>\n",
       "      <th>var38</th>\n",
       "      <th>TARGET</th>\n",
       "    </tr>\n",
       "  </thead>\n",
       "  <tbody>\n",
       "    <tr>\n",
       "      <th>0</th>\n",
       "      <td>1</td>\n",
       "      <td>2</td>\n",
       "      <td>23</td>\n",
       "      <td>0</td>\n",
       "      <td>0</td>\n",
       "      <td>0</td>\n",
       "      <td>0</td>\n",
       "      <td>0</td>\n",
       "      <td>0</td>\n",
       "      <td>0</td>\n",
       "      <td>...</td>\n",
       "      <td>0</td>\n",
       "      <td>0</td>\n",
       "      <td>0</td>\n",
       "      <td>0</td>\n",
       "      <td>0</td>\n",
       "      <td>0</td>\n",
       "      <td>0</td>\n",
       "      <td>0</td>\n",
       "      <td>39205.170000</td>\n",
       "      <td>0</td>\n",
       "    </tr>\n",
       "    <tr>\n",
       "      <th>1</th>\n",
       "      <td>3</td>\n",
       "      <td>2</td>\n",
       "      <td>34</td>\n",
       "      <td>0</td>\n",
       "      <td>0</td>\n",
       "      <td>0</td>\n",
       "      <td>0</td>\n",
       "      <td>0</td>\n",
       "      <td>0</td>\n",
       "      <td>0</td>\n",
       "      <td>...</td>\n",
       "      <td>0</td>\n",
       "      <td>0</td>\n",
       "      <td>0</td>\n",
       "      <td>0</td>\n",
       "      <td>0</td>\n",
       "      <td>0</td>\n",
       "      <td>0</td>\n",
       "      <td>0</td>\n",
       "      <td>49278.030000</td>\n",
       "      <td>0</td>\n",
       "    </tr>\n",
       "    <tr>\n",
       "      <th>2</th>\n",
       "      <td>4</td>\n",
       "      <td>2</td>\n",
       "      <td>23</td>\n",
       "      <td>0</td>\n",
       "      <td>0</td>\n",
       "      <td>0</td>\n",
       "      <td>0</td>\n",
       "      <td>0</td>\n",
       "      <td>0</td>\n",
       "      <td>0</td>\n",
       "      <td>...</td>\n",
       "      <td>0</td>\n",
       "      <td>0</td>\n",
       "      <td>0</td>\n",
       "      <td>0</td>\n",
       "      <td>0</td>\n",
       "      <td>0</td>\n",
       "      <td>0</td>\n",
       "      <td>0</td>\n",
       "      <td>67333.770000</td>\n",
       "      <td>0</td>\n",
       "    </tr>\n",
       "    <tr>\n",
       "      <th>3</th>\n",
       "      <td>8</td>\n",
       "      <td>2</td>\n",
       "      <td>37</td>\n",
       "      <td>0</td>\n",
       "      <td>195</td>\n",
       "      <td>195</td>\n",
       "      <td>0</td>\n",
       "      <td>0</td>\n",
       "      <td>0</td>\n",
       "      <td>0</td>\n",
       "      <td>...</td>\n",
       "      <td>0</td>\n",
       "      <td>0</td>\n",
       "      <td>0</td>\n",
       "      <td>0</td>\n",
       "      <td>0</td>\n",
       "      <td>0</td>\n",
       "      <td>0</td>\n",
       "      <td>0</td>\n",
       "      <td>64007.970000</td>\n",
       "      <td>0</td>\n",
       "    </tr>\n",
       "    <tr>\n",
       "      <th>4</th>\n",
       "      <td>10</td>\n",
       "      <td>2</td>\n",
       "      <td>39</td>\n",
       "      <td>0</td>\n",
       "      <td>0</td>\n",
       "      <td>0</td>\n",
       "      <td>0</td>\n",
       "      <td>0</td>\n",
       "      <td>0</td>\n",
       "      <td>0</td>\n",
       "      <td>...</td>\n",
       "      <td>0</td>\n",
       "      <td>0</td>\n",
       "      <td>0</td>\n",
       "      <td>0</td>\n",
       "      <td>0</td>\n",
       "      <td>0</td>\n",
       "      <td>0</td>\n",
       "      <td>0</td>\n",
       "      <td>117310.979016</td>\n",
       "      <td>0</td>\n",
       "    </tr>\n",
       "  </tbody>\n",
       "</table>\n",
       "<p>5 rows × 337 columns</p>\n",
       "</div>"
      ],
      "text/plain": [
       "   ID  var3  var15  imp_ent_var16_ult1  imp_op_var39_comer_ult1  \\\n",
       "0   1     2     23                   0                        0   \n",
       "1   3     2     34                   0                        0   \n",
       "2   4     2     23                   0                        0   \n",
       "3   8     2     37                   0                      195   \n",
       "4  10     2     39                   0                        0   \n",
       "\n",
       "   imp_op_var39_comer_ult3  imp_op_var40_comer_ult1  imp_op_var40_comer_ult3  \\\n",
       "0                        0                        0                        0   \n",
       "1                        0                        0                        0   \n",
       "2                        0                        0                        0   \n",
       "3                      195                        0                        0   \n",
       "4                        0                        0                        0   \n",
       "\n",
       "   imp_op_var40_efect_ult1  imp_op_var40_efect_ult3   ...    \\\n",
       "0                        0                        0   ...     \n",
       "1                        0                        0   ...     \n",
       "2                        0                        0   ...     \n",
       "3                        0                        0   ...     \n",
       "4                        0                        0   ...     \n",
       "\n",
       "   saldo_medio_var33_hace2  saldo_medio_var33_hace3  saldo_medio_var33_ult1  \\\n",
       "0                        0                        0                       0   \n",
       "1                        0                        0                       0   \n",
       "2                        0                        0                       0   \n",
       "3                        0                        0                       0   \n",
       "4                        0                        0                       0   \n",
       "\n",
       "   saldo_medio_var33_ult3  saldo_medio_var44_hace2  saldo_medio_var44_hace3  \\\n",
       "0                       0                        0                        0   \n",
       "1                       0                        0                        0   \n",
       "2                       0                        0                        0   \n",
       "3                       0                        0                        0   \n",
       "4                       0                        0                        0   \n",
       "\n",
       "   saldo_medio_var44_ult1  saldo_medio_var44_ult3          var38  TARGET  \n",
       "0                       0                       0   39205.170000       0  \n",
       "1                       0                       0   49278.030000       0  \n",
       "2                       0                       0   67333.770000       0  \n",
       "3                       0                       0   64007.970000       0  \n",
       "4                       0                       0  117310.979016       0  \n",
       "\n",
       "[5 rows x 337 columns]"
      ]
     },
     "execution_count": 5,
     "metadata": {},
     "output_type": "execute_result"
    }
   ],
   "source": [
    "df_train.head()"
   ]
  },
  {
   "cell_type": "code",
   "execution_count": 6,
   "metadata": {
    "collapsed": false
   },
   "outputs": [
    {
     "name": "stdout",
     "output_type": "stream",
     "text": [
      "(75818, 307)\n",
      "(76020, 308)\n"
     ]
    }
   ],
   "source": [
    "# remove duplicated columns\n",
    "remove = []\n",
    "c = df_train.columns\n",
    "for i in range(len(c)-1):\n",
    "    v = df_train[c[i]].values\n",
    "    for j in range(i+1,len(c)):\n",
    "        if np.array_equal(v,df_train[c[j]].values):\n",
    "            remove.append(c[j])\n",
    "\n",
    "df_train.drop(remove, axis=1, inplace=True)\n",
    "df_test.drop(remove, axis=1, inplace=True)\n",
    "\n",
    "y_train = df_train['TARGET'].values\n",
    "X_train = df_train.drop(['ID','TARGET'], axis=1).values\n",
    "\n",
    "id_test = df_test['ID']\n",
    "X_test = df_test.drop(['ID'], axis=1).values\n",
    "\n",
    "print(df_test.shape)\n",
    "print(df_train.shape)"
   ]
  },
  {
   "cell_type": "code",
   "execution_count": 7,
   "metadata": {
    "collapsed": true
   },
   "outputs": [],
   "source": [
    "len_train = len(X_train)\n",
    "len_test  = len(X_test)\n",
    "\n",
    "# Scale data\n",
    "scaler = StandardScaler()\n",
    "scaler.fit(X_train)\n",
    "X_train = scaler.transform(X_train)\n",
    "\n",
    "# apply same transformation to test data\n",
    "X_test = scaler.transform(X_test) "
   ]
  },
  {
   "cell_type": "code",
   "execution_count": null,
   "metadata": {
    "collapsed": false
   },
   "outputs": [],
   "source": [
    "X_fit, X_eval, y_fit, y_eval = train_test_split(X_train, y_train, test_size=0.5, random_state = 84)\n",
    "\n",
    "k_vars = [1, 5,7,9,11,13,15,17,19,21,23,25,27,29,31,33,35,50,70,85,100,120,140,160,180,200,220,250,270,285,300,315,330,350,375,400,425,450,475,500,525,550,575,600]\n",
    "scores_list = []\n",
    "for k1_val in k_vars:\n",
    "    for k2_val in k_vars:\n",
    "        for k3_val in k_vars:\n",
    "            clf = MLPClassifier(hidden_layer_sizes=(k1_val,k2_val,k3_val), activation='relu', \n",
    "                 beta_1=0.9, beta_2=0.999,\n",
    "                 learning_rate_init=0.001, max_iter = 5000, random_state = 1235, \n",
    "                 learning_rate='adaptive',\n",
    "                 early_stopping=True, validation_fraction=0.5)\n",
    "\n",
    "            clf.fit(X_train, y_train)\n",
    "            y_pred= clf.predict_proba(X_test)[:,1]\n",
    "            rc2 = roc_auc_score(y_fit, clf.predict_proba(X_fit)[:,1])\n",
    "            rc1 = roc_auc_score(y_train, clf.predict_proba(X_train)[:,1])\n",
    "            rc3 = roc_auc_score(y_eval, clf.predict_proba(X_eval)[:,1])\n",
    "            ##print(k_val,' -- Overall AUC all,fit,eval:',rc1,rc2,rc3 )\n",
    "            scores_list.append([k1_val,k2_val,k3_val,rc1,rc2,rc3])\n",
    "    print (k1_val)\n",
    "\n",
    "\n",
    "submission = pd.DataFrame({\"ID\":id_test, \"TARGET\":y_pred})\n",
    "submission.to_csv(\"predictions/submission_nn.csv\", index=False)\n",
    "\n",
    "print('Completed!')"
   ]
  },
  {
   "cell_type": "code",
   "execution_count": 63,
   "metadata": {
    "collapsed": false
   },
   "outputs": [
    {
     "data": {
      "text/plain": [
       "24637"
      ]
     },
     "execution_count": 63,
     "metadata": {},
     "output_type": "execute_result"
    }
   ],
   "source": [
    "len(scores_list)"
   ]
  },
  {
   "cell_type": "code",
   "execution_count": 59,
   "metadata": {
    "collapsed": false
   },
   "outputs": [
    {
     "data": {
      "text/plain": [
       "[[21, 475, 180, 0.82687350022832162, 0.8239079477500777, 0.82977732665217974],\n",
       " [21, 140, 140, 0.82427500168290613, 0.818842230722165, 0.82956761392092604],\n",
       " [21, 85, 400, 0.82607834075439079, 0.82266840647489781, 0.82940244472665836],\n",
       " [23, 33, 575, 0.82547353271350921, 0.82145942003956463, 0.82935936413477174],\n",
       " [21, 475, 100, 0.8272439513003399, 0.82517485529288848, 0.82926803327997267],\n",
       " [23, 300, 285, 0.82693797747907372, 0.82459818583364863, 0.82922499756370283],\n",
       " [21, 140, 330, 0.82486801663177478, 0.82041494544611715, 0.8292086718144025],\n",
       " [21, 475, 220, 0.8273601451298882, 0.82547624468411873, 0.82917651394758396],\n",
       " [21, 180, 285, 0.82637165407668334, 0.82351256479525325, 0.82916078055642195],\n",
       " [21, 300, 180, 0.82667970421067483, 0.8241612220486757, 0.82913985954398728],\n",
       " [21, 575, 250, 0.82729537646682405, 0.82546705789924035, 0.82908450098341324],\n",
       " [23, 285, 500, 0.82412670468917393, 0.81901646539875117, 0.82907575921330967],\n",
       " [21, 120, 70, 0.82400691829221306, 0.81881511399496876, 0.8290558344395621],\n",
       " [25, 500, 70, 0.82528721096634072, 0.82144220174959648, 0.82904666186353959],\n",
       " [23, 550, 575, 0.82450889193673793, 0.81985697303497473, 0.82901775299135927],\n",
       " [21, 375, 550, 0.82662008534956666, 0.82416075069452188, 0.82900122081422278],\n",
       " [21, 500, 400, 0.82673842151494181, 0.82451697428563464, 0.82891823682410148],\n",
       " [15, 160, 575, 0.8255907578694438, 0.82218061037922952, 0.82890268293540603],\n",
       " [19, 11, 285, 0.82304936475394319, 0.81706707401031031, 0.82886487074090254],\n",
       " [21, 315, 180, 0.8256573433061426, 0.82240843155352661, 0.82883113325238122],\n",
       " [21, 120, 350, 0.82618122979055619, 0.82349412652982845, 0.82880979040915082],\n",
       " [23, 450, 600, 0.82414655942960691, 0.81934129310633086, 0.8288096916827945],\n",
       " [25, 330, 285, 0.82507297510697752, 0.82124234758842007, 0.8288070888970348],\n",
       " [23, 315, 200, 0.82483829485258031, 0.82085207559137996, 0.82872789240895017],\n",
       " [23, 575, 575, 0.82387018672462475, 0.81887685214686745, 0.82872698592149596],\n",
       " [23, 475, 140, 0.82594207362517502, 0.82312182144405943, 0.82869592301972128],\n",
       " [23, 425, 550, 0.82401813311291883, 0.81925316836406226, 0.8286533629849866],\n",
       " [21, 300, 550, 0.82623497714890337, 0.82377481330724844, 0.8286320201417563],\n",
       " [23, 575, 450, 0.82339311289618955, 0.8180372964611895, 0.82859766336972696],\n",
       " [25, 120, 285, 0.82541408004848515, 0.82212803128549417, 0.82859445925070541],\n",
       " [25, 500, 220, 0.82438227556370802, 0.8201371699737644, 0.82850519267426748],\n",
       " [21, 600, 375, 0.82761909684257673, 0.82675551834178573, 0.82848356262709111],\n",
       " [23, 300, 600, 0.82428342532005816, 0.81996815716182248, 0.82847564656833206],\n",
       " [21, 250, 550, 0.82672819704076617, 0.82490551798411105, 0.82847508113556345],\n",
       " [23, 475, 600, 0.82354724951946112, 0.8184665984306051, 0.82847211036974799]]"
      ]
     },
     "execution_count": 59,
     "metadata": {},
     "output_type": "execute_result"
    }
   ],
   "source": [
    "sorted(scores_list, key = lambda x: x[5], reverse=True)[0:35]"
   ]
  },
  {
   "cell_type": "code",
   "execution_count": 77,
   "metadata": {
    "collapsed": false
   },
   "outputs": [
    {
     "name": "stdout",
     "output_type": "stream",
     "text": [
      "[0.77603178900349812, 0.76952314246305908, 0.78232309435110936]\n"
     ]
    }
   ],
   "source": [
    "clf = MLPClassifier(hidden_layer_sizes=(21,475,180), activation='relu', \n",
    "        beta_1=0.99, beta_2=0.9,\n",
    "        learning_rate_init=0.001, max_iter = 500000, random_state = 1235, \n",
    "        learning_rate='adaptive',\n",
    "        early_stopping=True, validation_fraction=0.3)\n",
    "\n",
    "\n",
    "clf.fit(X_train, y_train)\n",
    "y_pred= clf.predict_proba(X_test)[:,1]\n",
    "rc2 = roc_auc_score(y_fit, clf.predict_proba(X_fit)[:,1])\n",
    "rc1 = roc_auc_score(y_train, clf.predict_proba(X_train)[:,1])\n",
    "rc3 = roc_auc_score(y_eval, clf.predict_proba(X_eval)[:,1])\n",
    "##print(k_val,' -- Overall AUC all,fit,eval:',rc1,rc2,rc3 )\n",
    "print([rc1,rc2,rc3])"
   ]
  },
  {
   "cell_type": "code",
   "execution_count": null,
   "metadata": {
    "collapsed": true
   },
   "outputs": [],
   "source": []
  }
 ],
 "metadata": {
  "kernelspec": {
   "display_name": "Python 2",
   "language": "python",
   "name": "python2"
  }
 },
 "nbformat": 4,
 "nbformat_minor": 0
}
