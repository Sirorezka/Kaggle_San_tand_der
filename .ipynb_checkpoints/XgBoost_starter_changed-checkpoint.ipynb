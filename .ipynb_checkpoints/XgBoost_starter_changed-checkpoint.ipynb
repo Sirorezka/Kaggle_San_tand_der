{
 "cells": [
  {
   "cell_type": "code",
   "execution_count": 6,
   "metadata": {
    "collapsed": false
   },
   "outputs": [],
   "source": [
    "# This Python 3 environment comes with many helpful analytics libraries installed\n",
    "# It is defined by the kaggle/python docker image: https://github.com/kaggle/docker-python\n",
    "# For example, here's several helpful packages to load in \n",
    "#from __future__ import division\n",
    "\n",
    "import matplotlib.pyplot as plt\n",
    "import numpy as np\n",
    "import pandas as pd\n",
    "import xgboost as xgb\n",
    "from sklearn.cross_validation import train_test_split\n",
    "from sklearn.ensemble import RandomForestClassifier\n",
    "from sklearn.preprocessing import PolynomialFeatures\n",
    "\n",
    "from sklearn.metrics import roc_auc_score\n",
    "from sklearn.pipeline import Pipeline\n",
    "from sklearn.svm import OneClassSVM\n",
    "from sklearn.manifold import TSNE\n",
    "from sklearn.decomposition import PCA\n",
    "\n",
    "from sklearn.ensemble import ExtraTreesClassifier\n"
   ]
  },
  {
   "cell_type": "code",
   "execution_count": 7,
   "metadata": {
    "collapsed": false
   },
   "outputs": [
    {
     "name": "stdout",
     "output_type": "stream",
     "text": [
      "(75818, 370)\n",
      "(76020, 371)\n"
     ]
    }
   ],
   "source": [
    "df_train = pd.read_csv(\"Data/train.csv\")\n",
    "df_test = pd.read_csv(\"Data/test.csv\")\n",
    "\n",
    "print(df_test.shape)\n",
    "print(df_train.shape)"
   ]
  },
  {
   "cell_type": "code",
   "execution_count": 8,
   "metadata": {
    "collapsed": false
   },
   "outputs": [
    {
     "name": "stdout",
     "output_type": "stream",
     "text": [
      "(75818, 336)\n",
      "(76020, 337)\n"
     ]
    }
   ],
   "source": [
    "# remove constant columns\n",
    "remove = []\n",
    "for col in df_train.columns:\n",
    "    if df_train[col].std() == 0:\n",
    "        remove.append(col)\n",
    "\n",
    "df_train.drop(remove, axis=1, inplace=True)\n",
    "df_test.drop(remove, axis=1, inplace=True)\n",
    "\n",
    "print(df_test.shape)\n",
    "print(df_train.shape)"
   ]
  },
  {
   "cell_type": "code",
   "execution_count": 9,
   "metadata": {
    "collapsed": false
   },
   "outputs": [
    {
     "data": {
      "text/html": [
       "<div>\n",
       "<table border=\"1\" class=\"dataframe\">\n",
       "  <thead>\n",
       "    <tr style=\"text-align: right;\">\n",
       "      <th></th>\n",
       "      <th>ID</th>\n",
       "      <th>var3</th>\n",
       "      <th>var15</th>\n",
       "      <th>imp_ent_var16_ult1</th>\n",
       "      <th>imp_op_var39_comer_ult1</th>\n",
       "      <th>imp_op_var39_comer_ult3</th>\n",
       "      <th>imp_op_var40_comer_ult1</th>\n",
       "      <th>imp_op_var40_comer_ult3</th>\n",
       "      <th>imp_op_var40_efect_ult1</th>\n",
       "      <th>imp_op_var40_efect_ult3</th>\n",
       "      <th>...</th>\n",
       "      <th>saldo_medio_var33_hace2</th>\n",
       "      <th>saldo_medio_var33_hace3</th>\n",
       "      <th>saldo_medio_var33_ult1</th>\n",
       "      <th>saldo_medio_var33_ult3</th>\n",
       "      <th>saldo_medio_var44_hace2</th>\n",
       "      <th>saldo_medio_var44_hace3</th>\n",
       "      <th>saldo_medio_var44_ult1</th>\n",
       "      <th>saldo_medio_var44_ult3</th>\n",
       "      <th>var38</th>\n",
       "      <th>TARGET</th>\n",
       "    </tr>\n",
       "  </thead>\n",
       "  <tbody>\n",
       "    <tr>\n",
       "      <th>0</th>\n",
       "      <td>1</td>\n",
       "      <td>2</td>\n",
       "      <td>23</td>\n",
       "      <td>0</td>\n",
       "      <td>0</td>\n",
       "      <td>0</td>\n",
       "      <td>0</td>\n",
       "      <td>0</td>\n",
       "      <td>0</td>\n",
       "      <td>0</td>\n",
       "      <td>...</td>\n",
       "      <td>0</td>\n",
       "      <td>0</td>\n",
       "      <td>0</td>\n",
       "      <td>0</td>\n",
       "      <td>0</td>\n",
       "      <td>0</td>\n",
       "      <td>0</td>\n",
       "      <td>0</td>\n",
       "      <td>39205.170000</td>\n",
       "      <td>0</td>\n",
       "    </tr>\n",
       "    <tr>\n",
       "      <th>1</th>\n",
       "      <td>3</td>\n",
       "      <td>2</td>\n",
       "      <td>34</td>\n",
       "      <td>0</td>\n",
       "      <td>0</td>\n",
       "      <td>0</td>\n",
       "      <td>0</td>\n",
       "      <td>0</td>\n",
       "      <td>0</td>\n",
       "      <td>0</td>\n",
       "      <td>...</td>\n",
       "      <td>0</td>\n",
       "      <td>0</td>\n",
       "      <td>0</td>\n",
       "      <td>0</td>\n",
       "      <td>0</td>\n",
       "      <td>0</td>\n",
       "      <td>0</td>\n",
       "      <td>0</td>\n",
       "      <td>49278.030000</td>\n",
       "      <td>0</td>\n",
       "    </tr>\n",
       "    <tr>\n",
       "      <th>2</th>\n",
       "      <td>4</td>\n",
       "      <td>2</td>\n",
       "      <td>23</td>\n",
       "      <td>0</td>\n",
       "      <td>0</td>\n",
       "      <td>0</td>\n",
       "      <td>0</td>\n",
       "      <td>0</td>\n",
       "      <td>0</td>\n",
       "      <td>0</td>\n",
       "      <td>...</td>\n",
       "      <td>0</td>\n",
       "      <td>0</td>\n",
       "      <td>0</td>\n",
       "      <td>0</td>\n",
       "      <td>0</td>\n",
       "      <td>0</td>\n",
       "      <td>0</td>\n",
       "      <td>0</td>\n",
       "      <td>67333.770000</td>\n",
       "      <td>0</td>\n",
       "    </tr>\n",
       "    <tr>\n",
       "      <th>3</th>\n",
       "      <td>8</td>\n",
       "      <td>2</td>\n",
       "      <td>37</td>\n",
       "      <td>0</td>\n",
       "      <td>195</td>\n",
       "      <td>195</td>\n",
       "      <td>0</td>\n",
       "      <td>0</td>\n",
       "      <td>0</td>\n",
       "      <td>0</td>\n",
       "      <td>...</td>\n",
       "      <td>0</td>\n",
       "      <td>0</td>\n",
       "      <td>0</td>\n",
       "      <td>0</td>\n",
       "      <td>0</td>\n",
       "      <td>0</td>\n",
       "      <td>0</td>\n",
       "      <td>0</td>\n",
       "      <td>64007.970000</td>\n",
       "      <td>0</td>\n",
       "    </tr>\n",
       "    <tr>\n",
       "      <th>4</th>\n",
       "      <td>10</td>\n",
       "      <td>2</td>\n",
       "      <td>39</td>\n",
       "      <td>0</td>\n",
       "      <td>0</td>\n",
       "      <td>0</td>\n",
       "      <td>0</td>\n",
       "      <td>0</td>\n",
       "      <td>0</td>\n",
       "      <td>0</td>\n",
       "      <td>...</td>\n",
       "      <td>0</td>\n",
       "      <td>0</td>\n",
       "      <td>0</td>\n",
       "      <td>0</td>\n",
       "      <td>0</td>\n",
       "      <td>0</td>\n",
       "      <td>0</td>\n",
       "      <td>0</td>\n",
       "      <td>117310.979016</td>\n",
       "      <td>0</td>\n",
       "    </tr>\n",
       "  </tbody>\n",
       "</table>\n",
       "<p>5 rows × 337 columns</p>\n",
       "</div>"
      ],
      "text/plain": [
       "   ID  var3  var15  imp_ent_var16_ult1  imp_op_var39_comer_ult1  \\\n",
       "0   1     2     23                   0                        0   \n",
       "1   3     2     34                   0                        0   \n",
       "2   4     2     23                   0                        0   \n",
       "3   8     2     37                   0                      195   \n",
       "4  10     2     39                   0                        0   \n",
       "\n",
       "   imp_op_var39_comer_ult3  imp_op_var40_comer_ult1  imp_op_var40_comer_ult3  \\\n",
       "0                        0                        0                        0   \n",
       "1                        0                        0                        0   \n",
       "2                        0                        0                        0   \n",
       "3                      195                        0                        0   \n",
       "4                        0                        0                        0   \n",
       "\n",
       "   imp_op_var40_efect_ult1  imp_op_var40_efect_ult3   ...    \\\n",
       "0                        0                        0   ...     \n",
       "1                        0                        0   ...     \n",
       "2                        0                        0   ...     \n",
       "3                        0                        0   ...     \n",
       "4                        0                        0   ...     \n",
       "\n",
       "   saldo_medio_var33_hace2  saldo_medio_var33_hace3  saldo_medio_var33_ult1  \\\n",
       "0                        0                        0                       0   \n",
       "1                        0                        0                       0   \n",
       "2                        0                        0                       0   \n",
       "3                        0                        0                       0   \n",
       "4                        0                        0                       0   \n",
       "\n",
       "   saldo_medio_var33_ult3  saldo_medio_var44_hace2  saldo_medio_var44_hace3  \\\n",
       "0                       0                        0                        0   \n",
       "1                       0                        0                        0   \n",
       "2                       0                        0                        0   \n",
       "3                       0                        0                        0   \n",
       "4                       0                        0                        0   \n",
       "\n",
       "   saldo_medio_var44_ult1  saldo_medio_var44_ult3          var38  TARGET  \n",
       "0                       0                       0   39205.170000       0  \n",
       "1                       0                       0   49278.030000       0  \n",
       "2                       0                       0   67333.770000       0  \n",
       "3                       0                       0   64007.970000       0  \n",
       "4                       0                       0  117310.979016       0  \n",
       "\n",
       "[5 rows x 337 columns]"
      ]
     },
     "execution_count": 9,
     "metadata": {},
     "output_type": "execute_result"
    }
   ],
   "source": [
    "df_train.head()"
   ]
  },
  {
   "cell_type": "code",
   "execution_count": 10,
   "metadata": {
    "collapsed": false
   },
   "outputs": [
    {
     "name": "stdout",
     "output_type": "stream",
     "text": [
      "(75818, 307)\n",
      "(76020, 308)\n"
     ]
    }
   ],
   "source": [
    "# remove duplicated columns\n",
    "remove = []\n",
    "c = df_train.columns\n",
    "for i in range(len(c)-1):\n",
    "    v = df_train[c[i]].values\n",
    "    for j in range(i+1,len(c)):\n",
    "        if np.array_equal(v,df_train[c[j]].values):\n",
    "            remove.append(c[j])\n",
    "\n",
    "df_train.drop(remove, axis=1, inplace=True)\n",
    "df_test.drop(remove, axis=1, inplace=True)\n",
    "\n",
    "y_train = df_train['TARGET'].values\n",
    "X_train = df_train.drop(['ID','TARGET'], axis=1).values\n",
    "\n",
    "id_test = df_test['ID']\n",
    "X_test = df_test.drop(['ID'], axis=1).values\n",
    "\n",
    "print(df_test.shape)\n",
    "print(df_train.shape)"
   ]
  },
  {
   "cell_type": "code",
   "execution_count": 11,
   "metadata": {
    "collapsed": false
   },
   "outputs": [
    {
     "name": "stdout",
     "output_type": "stream",
     "text": [
      "(76020, 47278)\n"
     ]
    }
   ],
   "source": [
    "pol_feat = PolynomialFeatures(degree=2)\n",
    "X_train_all = pol_feat.fit_transform(X_train)\n",
    "\n",
    "print (X_train_all.shape)\n"
   ]
  },
  {
   "cell_type": "code",
   "execution_count": 12,
   "metadata": {
    "collapsed": false
   },
   "outputs": [
    {
     "name": "stdout",
     "output_type": "stream",
     "text": [
      "ExtraTrees done\n"
     ]
    }
   ],
   "source": [
    "## Feature selection\n",
    "\n",
    "clf = ExtraTreesClassifier()\n",
    "clf = clf.fit(X_train_all, y_train)\n",
    "clf.feature_importances_  \n",
    "\n",
    "print (\"ExtraTrees done\")"
   ]
  },
  {
   "cell_type": "code",
   "execution_count": 13,
   "metadata": {
    "collapsed": false,
    "scrolled": true
   },
   "outputs": [
    {
     "name": "stdout",
     "output_type": "stream",
     "text": [
      "[30624 14637   917 27774 47277  6807   306   612 19547 35496 44649 18116\n",
      " 17387 30441 29886     2   662   720   764   613   845   735   633   308\n",
      "   682]\n",
      "(76020, 1000)\n"
     ]
    }
   ],
   "source": [
    "feature_importance = clf.feature_importances_\n",
    "sorted_idx = np.argsort(feature_importance)[::-1]\n",
    "\n",
    "print (sorted_idx[0:25])\n",
    "feature_importance [sorted_idx[0:1000]]\n",
    "feature_selected = sorted_idx[0:1000]\n",
    "\n",
    "X_train = np.copy(X_train_all[:,feature_selected])\n",
    "\n",
    "print (X_train.shape)"
   ]
  },
  {
   "cell_type": "code",
   "execution_count": 14,
   "metadata": {
    "collapsed": false
   },
   "outputs": [
    {
     "name": "stdout",
     "output_type": "stream",
     "text": [
      "(76020, 1000)\n"
     ]
    }
   ],
   "source": [
    "del X_train_all\n",
    "print (X_train.shape)"
   ]
  },
  {
   "cell_type": "code",
   "execution_count": 15,
   "metadata": {
    "collapsed": false
   },
   "outputs": [
    {
     "name": "stdout",
     "output_type": "stream",
     "text": [
      "(75818, 1000)\n"
     ]
    }
   ],
   "source": [
    "pol_feat = PolynomialFeatures(2)\n",
    "X_test_all = pol_feat.fit_transform(X_test)\n",
    "\n",
    "X_test =  np.copy(X_test_all[:,feature_selected])\n",
    "del X_test_all\n",
    "\n",
    "print(X_test.shape)"
   ]
  },
  {
   "cell_type": "code",
   "execution_count": 28,
   "metadata": {
    "collapsed": false
   },
   "outputs": [],
   "source": [
    "# length of dataset\n",
    "len_train = len(X_train)\n",
    "len_test  = len(X_test)"
   ]
  },
  {
   "cell_type": "code",
   "execution_count": 29,
   "metadata": {
    "collapsed": false
   },
   "outputs": [
    {
     "name": "stdout",
     "output_type": "stream",
     "text": [
      "('Overall AUC:', 0.85354765758776474)\n"
     ]
    }
   ],
   "source": [
    "# classifier\n",
    "clf = xgb.XGBClassifier(missing=np.nan, max_depth=3, n_estimators=350, learning_rate=0.03, nthread=8, subsample=0.95, colsample_bytree=0.85, seed=4242)\n",
    "\n",
    "X_fit, X_eval_valid, y_fit, y_eval_valid = train_test_split(X_train, y_train, test_size=0.5, random_state = 84)\n",
    "\n",
    "X_eval, X_valid, y_eval, y_valid = train_test_split(X_eval_valid, y_eval_valid, test_size=0.5, random_state = 84)\n",
    "\n",
    "# fitting\n",
    "clf.fit(X_fit, y_fit, early_stopping_rounds=20, eval_metric=\"auc\", eval_set=[(X_eval_valid, y_eval_valid)])\n",
    "\n",
    "print('Overall AUC:', roc_auc_score(y_train, clf.predict_proba(X_train)[:,1]))"
   ]
  },
  {
   "cell_type": "code",
   "execution_count": null,
   "metadata": {
    "collapsed": true
   },
   "outputs": [],
   "source": []
  },
  {
   "cell_type": "code",
   "execution_count": 30,
   "metadata": {
    "collapsed": false
   },
   "outputs": [
    {
     "name": "stdout",
     "output_type": "stream",
     "text": [
      "Completed!\n"
     ]
    }
   ],
   "source": [
    "# predicting\n",
    "y_pred= clf.predict_proba(X_test)[:,1]\n",
    "\n",
    "submission = pd.DataFrame({\"ID\":id_test, \"TARGET\":y_pred})\n",
    "submission.to_csv(\"predictions/submission_xgb.csv\", index=False)\n",
    "\n",
    "print('Completed!')"
   ]
  },
  {
   "cell_type": "code",
   "execution_count": null,
   "metadata": {
    "collapsed": false,
    "scrolled": true
   },
   "outputs": [
    {
     "name": "stdout",
     "output_type": "stream",
     "text": [
      "(2, '  Overall AUC:', 0.79680410423403769, 0.78919688835323765)\n",
      "(3, '  Overall AUC:', 0.8731979784119428, 0.83466936528294255)\n",
      "(4, '  Overall AUC:', 0.88618379458910945, 0.83434158202853448)\n",
      "(5, '  Overall AUC:', 0.9036899063426691, 0.83337632289557462)\n",
      "(6, '  Overall AUC:', 0.92457437967621448, 0.8314306683160263)"
     ]
    }
   ],
   "source": [
    "for c_max_depth in range (2,15,1):\n",
    "    clf = xgb.XGBClassifier(missing=np.nan, max_depth = c_max_depth, n_estimators=350, learning_rate=0.03, nthread=-1, subsample=0.95, colsample_bytree=0.85, seed=4242)\n",
    "    clf.fit(X_fit, y_fit, early_stopping_rounds=20, eval_metric=\"auc\", eval_set=[(X_eval, y_eval)])\n",
    "    \n",
    "    print(c_max_depth,'  Overall AUC:', roc_auc_score(y_fit, clf.predict_proba(X_fit)[:,1]), roc_auc_score(y_eval, clf.predict_proba(X_eval)[:,1]))"
   ]
  },
  {
   "cell_type": "code",
   "execution_count": null,
   "metadata": {
    "collapsed": false,
    "scrolled": true
   },
   "outputs": [],
   "source": [
    "# C_n_estimators_range = [0.65,0.7,0.73,0.74,0.75,0.76,0.77,0.8,0.85,0.9,0.95]\n",
    "C_n_estimators_range = [0.8,0.81,0.82,0.83,0.84,0.85,0.86,0.87,0.88,0.9,0.95]\n",
    "\n",
    "for c_n_estim  in C_n_estimators_range:\n",
    "    clf = xgb.XGBClassifier(missing=np.nan, max_depth = 3, n_estimators=350, learning_rate=0.03, nthread=-1, subsample=0.75, colsample_bytree=0.87, seed=4242)\n",
    "    clf.fit(X_fit, y_fit, early_stopping_rounds=20, eval_metric=\"auc\", eval_set=[(X_eval, y_eval)])\n",
    "    \n",
    "    print(c_n_estim,'  Overall AUC:', roc_auc_score(y_fit, clf.predict_proba(X_fit)[:,1]), roc_auc_score(y_eval, clf.predict_proba(X_eval)[:,1]))"
   ]
  },
  {
   "cell_type": "code",
   "execution_count": 22,
   "metadata": {
    "collapsed": false
   },
   "outputs": [
    {
     "name": "stdout",
     "output_type": "stream",
     "text": [
      "(30, '  Overall AUC:', 0.83780763645115874, 0.80242453106970923)\n",
      "(40, '  Overall AUC:', 0.87374266972663617, 0.82438535260024359)\n",
      "(50, '  Overall AUC:', 0.87230451275021303, 0.83224438194747685)\n",
      "(70, '  Overall AUC:', 0.86935837368694813, 0.83105893504252826)\n",
      "(80, '  Overall AUC:', 0.86862705385409744, 0.83154300529428138)\n",
      "(90, '  Overall AUC:', 0.87317910576131741, 0.83021243214372364)\n",
      "(100, '  Overall AUC:', 0.87557587693730488, 0.83199530752393691)\n",
      "(150, '  Overall AUC:', 0.87425042905705008, 0.83046683163181712)\n",
      "(200, '  Overall AUC:', 0.87050891220722049, 0.83076040317012034)\n",
      "(250, '  Overall AUC:', 0.87923877930808503, 0.83092631905131575)\n",
      "(300, '  Overall AUC:', 0.87451042246289801, 0.8316189057006933)\n",
      "(350, '  Overall AUC:', 0.87015052593234354, 0.83079581849670658)\n",
      "(400, '  Overall AUC:', 0.87463323332553711, 0.83317090670676552)\n",
      "(450, '  Overall AUC:', 0.87224474319507395, 0.8313149758176418)\n",
      "(500, '  Overall AUC:', 0.87242049359874263, 0.83383234537580875)\n",
      "(550, '  Overall AUC:', 0.87718397094950085, 0.83368813095632177)\n",
      "(600, '  Overall AUC:', 0.87468939840773607, 0.83486161470254694)\n",
      "(650, '  Overall AUC:', 0.88225407804061007, 0.83544350566068948)\n"
     ]
    }
   ],
   "source": [
    "C_feat_numb = [30,40,50,70,80,90,100,150,200,250,300,350,400,450,500,550,600,650]\n",
    "\n",
    "for c_feat  in C_feat_numb:\n",
    "    clf = xgb.XGBClassifier(missing=np.nan, max_depth = 3, n_estimators=1550, learning_rate=0.03, nthread=-1, subsample=0.75, colsample_bytree=0.87, seed=4242)\n",
    "    clf.fit(X_fit[:,1:c_feat], y_fit, early_stopping_rounds=50, eval_metric=\"auc\", eval_set=[(X_eval[:,1:c_feat], y_eval)])\n",
    "    \n",
    "    print(c_feat,'  Overall AUC:', roc_auc_score(y_fit, clf.predict_proba(X_fit[:,1:c_feat])[:,1]), roc_auc_score(y_eval, clf.predict_proba(X_eval[:,1:c_feat])[:,1]))"
   ]
  },
  {
   "cell_type": "code",
   "execution_count": 23,
   "metadata": {
    "collapsed": false
   },
   "outputs": [
    {
     "name": "stdout",
     "output_type": "stream",
     "text": [
      "Completed!\n"
     ]
    }
   ],
   "source": [
    "clf = xgb.XGBClassifier(missing=np.nan, max_depth = 3, n_estimators=350, learning_rate=0.03, nthread=-1, subsample=0.75, colsample_bytree=0.87, seed=4242)\n",
    "clf.fit(X_fit[:,1:650], y_fit, early_stopping_rounds=20, eval_metric=\"auc\", eval_set=[(X_eval[:,1:650], y_eval)])\n",
    "  \n",
    "\n",
    "# predicting\n",
    "y_pred= clf.predict_proba(X_test[:,1:650])[:,1]\n",
    "\n",
    "submission = pd.DataFrame({\"ID\":id_test, \"TARGET\":y_pred})\n",
    "submission.to_csv(\"predictions/submission_xgb.csv\", index=False)\n",
    "\n",
    "print('Completed!')"
   ]
  },
  {
   "cell_type": "code",
   "execution_count": 32,
   "metadata": {
    "collapsed": false
   },
   "outputs": [
    {
     "name": "stdout",
     "output_type": "stream",
     "text": [
      "0.0389634306761\n",
      "(38010, 1481)\n",
      "0.039515916864\n",
      "(19005, 751)\n"
     ]
    }
   ],
   "source": [
    "print (sum(y_fit==1)*1.0/len(y_fit))\n",
    "print (len(y_fit), sum(y_fit==1))\n",
    "print (sum(y_eval==1)*1.0/len(y_eval))\n",
    "print (len(y_eval), sum(y_eval==1))"
   ]
  },
  {
   "cell_type": "code",
   "execution_count": null,
   "metadata": {
    "collapsed": true
   },
   "outputs": [],
   "source": []
  }
 ],
 "metadata": {
  "kernelspec": {
   "display_name": "Python 2",
   "language": "python",
   "name": "python2"
  },
  "language_info": {
   "codemirror_mode": {
    "name": "ipython",
    "version": 2
   },
   "file_extension": ".py",
   "mimetype": "text/x-python",
   "name": "python",
   "nbconvert_exporter": "python",
   "pygments_lexer": "ipython2",
   "version": "2.7.11"
  }
 },
 "nbformat": 4,
 "nbformat_minor": 0
}
