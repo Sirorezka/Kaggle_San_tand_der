{
 "cells": [
  {
   "cell_type": "code",
   "execution_count": 2,
   "metadata": {
    "collapsed": false
   },
   "outputs": [
    {
     "name": "stderr",
     "output_type": "stream",
     "text": [
      "/home/sirorezka/anaconda2/envs/py27/lib/python2.7/site-packages/sklearn/cross_validation.py:43: DeprecationWarning: This module has been deprecated in favor of the model_selection module into which all the refactored classes and functions are moved. Also note that the interface of the new CV iterators are different from that of this module. This module will be removed in 0.20.\n",
      "  \"This module will be removed in 0.20.\", DeprecationWarning)\n",
      "/home/sirorezka/anaconda2/envs/py27/lib/python2.7/site-packages/sklearn/grid_search.py:43: DeprecationWarning: This module has been deprecated in favor of the model_selection module into which all the refactored classes and functions are moved. This module will be removed in 0.20.\n",
      "  DeprecationWarning)\n"
     ]
    }
   ],
   "source": [
    "##   MLP: https://www.kaggle.com/rgaddati/santander-customer-satisfaction/santander1\n",
    "\n",
    "# This Python 3 environment comes with many helpful analytics libraries installed\n",
    "# It is defined by the kaggle/python docker image: https://github.com/kaggle/docker-python\n",
    "# For example, here's several helpful packages to load in \n",
    "#from __future__ import division\n",
    "\n",
    "%matplotlib inline  \n",
    "import matplotlib.pyplot as plt\n",
    "\n",
    "\n",
    "import matplotlib.pyplot as plt\n",
    "import numpy as np\n",
    "import pandas as pd\n",
    "import xgboost as xgb\n",
    "from sklearn.cross_validation import train_test_split\n",
    "from sklearn.ensemble import RandomForestClassifier\n",
    "from sklearn.preprocessing import PolynomialFeatures\n",
    "\n",
    "from sklearn.metrics import roc_auc_score\n",
    "from sklearn.pipeline import Pipeline\n",
    "from sklearn.svm import OneClassSVM\n",
    "from sklearn.manifold import TSNE\n",
    "from sklearn.decomposition import PCA\n",
    "from sklearn.cross_validation import StratifiedKFold \n",
    "from sklearn.ensemble import ExtraTreesClassifier\n",
    "from scipy.stats import describe\n",
    "from sklearn.preprocessing import StandardScaler, scale\n",
    "from sklearn.grid_search import GridSearchCV"
   ]
  },
  {
   "cell_type": "code",
   "execution_count": 3,
   "metadata": {
    "collapsed": true
   },
   "outputs": [],
   "source": [
    "df_train = pd.read_csv(\"Data/train.csv\")\n",
    "df_test = pd.read_csv(\"Data/test.csv\")\n",
    "\n",
    "y_train = df_train['TARGET'].values\n",
    "id_test = df_test['ID']"
   ]
  },
  {
   "cell_type": "code",
   "execution_count": 4,
   "metadata": {
    "collapsed": false
   },
   "outputs": [
    {
     "name": "stdout",
     "output_type": "stream",
     "text": [
      "(75818,)\n",
      "(76020,)\n"
     ]
    }
   ],
   "source": [
    "print id_test.shape\n",
    "print y_train.shape"
   ]
  },
  {
   "cell_type": "code",
   "execution_count": 5,
   "metadata": {
    "collapsed": false
   },
   "outputs": [
    {
     "name": "stdout",
     "output_type": "stream",
     "text": [
      "(75818, 355)\n",
      "(76020, 355)\n"
     ]
    }
   ],
   "source": [
    "df_train = pd.read_csv(\"Data/proc_train.csv\", header=None)\n",
    "df_test = pd.read_csv(\"Data/proc_test.csv\", header=None)\n",
    "\n",
    "print(df_test.shape)\n",
    "print(df_train.shape)"
   ]
  },
  {
   "cell_type": "code",
   "execution_count": 6,
   "metadata": {
    "collapsed": true
   },
   "outputs": [],
   "source": [
    "X_train  = df_train.values\n",
    "X_test = df_test.values"
   ]
  },
  {
   "cell_type": "code",
   "execution_count": 7,
   "metadata": {
    "collapsed": false
   },
   "outputs": [
    {
     "name": "stdout",
     "output_type": "stream",
     "text": [
      "('Overall AUC:', 0.8646430197353161, 0.84190924353551033)\n"
     ]
    }
   ],
   "source": [
    "# classifier\n",
    "clf = xgb.XGBClassifier(missing=np.nan, gamma=0, reg_lambda=4, max_depth=5, n_estimators=500, learning_rate=0.02, nthread=8, subsample=0.95, colsample_bytree=0.85, seed=4242)\n",
    "\n",
    "X_fit, X_eval, y_fit, y_eval = train_test_split(X_train, y_train, test_size=0.3, random_state = 44)\n",
    "\n",
    "# fitting\n",
    "#clf.fit(X_train, y_train, early_stopping_rounds=20, eval_metric=\"auc\", eval_set=[(X_eval, y_eval)])\n",
    "\n",
    "clf.fit(X_fit, y_fit, early_stopping_rounds=20, eval_metric=\"auc\", eval_set=[(X_eval, y_eval)])\n",
    "\n",
    "print('Overall AUC:', roc_auc_score(y_train, clf.predict_proba(X_train)[:,1]), roc_auc_score(y_eval, clf.predict_proba(X_eval)[:,1]))"
   ]
  },
  {
   "cell_type": "code",
   "execution_count": 34,
   "metadata": {
    "collapsed": false,
    "scrolled": true
   },
   "outputs": [
    {
     "data": {
      "text/plain": [
       "{'base_score': 0.5,\n",
       " 'colsample_bylevel': 1,\n",
       " 'colsample_bytree': 0.85,\n",
       " 'gamma': 0,\n",
       " 'learning_rate': 0.02,\n",
       " 'max_delta_step': 0,\n",
       " 'max_depth': 5,\n",
       " 'min_child_weight': 1,\n",
       " 'missing': None,\n",
       " 'n_estimators': 500,\n",
       " 'nthread': 8,\n",
       " 'objective': 'binary:logistic',\n",
       " 'reg_alpha': 0,\n",
       " 'reg_lambda': 2,\n",
       " 'scale_pos_weight': 1,\n",
       " 'seed': 4242,\n",
       " 'silent': True,\n",
       " 'subsample': 0.95}"
      ]
     },
     "execution_count": 34,
     "metadata": {},
     "output_type": "execute_result"
    }
   ],
   "source": [
    "xgb_model.get_params()"
   ]
  },
  {
   "cell_type": "code",
   "execution_count": 45,
   "metadata": {
    "collapsed": false,
    "scrolled": true
   },
   "outputs": [
    {
     "name": "stdout",
     "output_type": "stream",
     "text": [
      "{'n_estimators': 400, 'reg_lambda': 4, 'max_depth': 5}\n"
     ]
    }
   ],
   "source": [
    "##print(clf.best_score_)\n",
    "print(clf.best_params_)"
   ]
  },
  {
   "cell_type": "code",
   "execution_count": null,
   "metadata": {
    "collapsed": true
   },
   "outputs": [],
   "source": []
  },
  {
   "cell_type": "code",
   "execution_count": 37,
   "metadata": {
    "collapsed": false
   },
   "outputs": [
    {
     "name": "stdout",
     "output_type": "stream",
     "text": [
      "Fitting 3 folds for each of 160 candidates, totalling 480 fits\n"
     ]
    },
    {
     "name": "stderr",
     "output_type": "stream",
     "text": [
      "[Parallel(n_jobs=8)]: Done   2 tasks      | elapsed:  2.8min\n",
      "[Parallel(n_jobs=8)]: Done  56 tasks      | elapsed: 24.7min\n",
      "[Parallel(n_jobs=8)]: Done 146 tasks      | elapsed: 79.2min\n",
      "[Parallel(n_jobs=8)]: Done 272 tasks      | elapsed: 165.7min\n",
      "[Parallel(n_jobs=8)]: Done 434 tasks      | elapsed: 301.5min\n",
      "[Parallel(n_jobs=8)]: Done 480 out of 480 | elapsed: 351.6min finished\n"
     ]
    },
    {
     "name": "stdout",
     "output_type": "stream",
     "text": [
      "0.837276865944\n",
      "{'n_estimators': 400, 'reg_lambda': 4, 'max_depth': 5}\n",
      "[CV] n_estimators=300, reg_lambda=0.5, max_depth=4 ...................\n",
      "[CV] n_estimators=300, reg_lambda=0.5, max_depth=4 ...................\n",
      "[CV] n_estimators=300, reg_lambda=0.5, max_depth=4 ...................\n",
      "[CV] n_estimators=300, reg_lambda=1, max_depth=4 .....................\n",
      "[CV] n_estimators=300, reg_lambda=1, max_depth=4 .....................\n",
      "[CV] n_estimators=300, reg_lambda=1, max_depth=4 .....................\n",
      "[CV] n_estimators=300, reg_lambda=2, max_depth=4 .....................\n",
      "[CV] n_estimators=300, reg_lambda=2, max_depth=4 .....................\n",
      "[CV]  n_estimators=300, reg_lambda=0.5, max_depth=4, score=0.830146 - 3.0min[CV]  n_estimators=300, reg_lambda=0.5, max_depth=4, score=0.842720 - 2.8min[CV]  n_estimators=300, reg_lambda=0.5, max_depth=4, score=0.834677 - 3.0min[CV]  n_estimators=300, reg_lambda=1, max_depth=4, score=0.830158 - 2.7min[CV]  n_estimators=300, reg_lambda=1, max_depth=4, score=0.842997 - 3.0min[CV]  n_estimators=300, reg_lambda=1, max_depth=4, score=0.834625 - 2.9min[CV]  n_estimators=300, reg_lambda=2, max_depth=4, score=0.830232 - 3.2min[CV]  n_estimators=300, reg_lambda=2, max_depth=4, score=0.842362 - 2.9min\n",
      "\n",
      "\n",
      "\n",
      "\n",
      "\n",
      "\n",
      "\n",
      "[CV] n_estimators=300, reg_lambda=5, max_depth=4 .....................[CV] n_estimators=300, reg_lambda=4, max_depth=4 .....................[CV] n_estimators=300, reg_lambda=5, max_depth=4 .....................[CV] n_estimators=300, reg_lambda=2, max_depth=4 .....................[CV] n_estimators=300, reg_lambda=4, max_depth=4 .....................[CV] n_estimators=300, reg_lambda=4, max_depth=4 .....................\n",
      "[CV] n_estimators=300, reg_lambda=7, max_depth=4 .....................[CV] n_estimators=300, reg_lambda=5, max_depth=4 .....................\n",
      "\n",
      "\n",
      "\n",
      "\n",
      "[CV]  n_estimators=300, reg_lambda=4, max_depth=4, score=0.842326 - 2.9min\n",
      "\n",
      "[CV]  n_estimators=300, reg_lambda=5, max_depth=4, score=0.834675 - 2.9min[CV]  n_estimators=300, reg_lambda=4, max_depth=4, score=0.829402 - 2.8min[CV]  n_estimators=300, reg_lambda=5, max_depth=4, score=0.829002 - 2.8min[CV]  n_estimators=300, reg_lambda=2, max_depth=4, score=0.834562 - 3.0min[CV]  n_estimators=300, reg_lambda=4, max_depth=4, score=0.835041 - 3.0min\n",
      "[CV]  n_estimators=300, reg_lambda=7, max_depth=4, score=0.828387 - 3.1min[CV]  n_estimators=300, reg_lambda=5, max_depth=4, score=0.842409 - 2.8min\n",
      "\n",
      "\n",
      "\n",
      "\n",
      "[CV] n_estimators=300, reg_lambda=10, max_depth=4 ....................\n",
      "\n",
      "[CV] n_estimators=300, reg_lambda=15, max_depth=4 ....................[CV] n_estimators=300, reg_lambda=7, max_depth=4 .....................[CV] n_estimators=300, reg_lambda=10, max_depth=4 ....................\n",
      "[CV] n_estimators=300, reg_lambda=7, max_depth=4 .....................\n",
      "[CV] n_estimators=300, reg_lambda=15, max_depth=4 ....................\n",
      "[CV] n_estimators=300, reg_lambda=15, max_depth=4 ....................[CV] n_estimators=300, reg_lambda=10, max_depth=4 ....................\n",
      "\n",
      "[CV]  n_estimators=300, reg_lambda=10, max_depth=4, score=0.827919 - 2.9min[CV]  n_estimators=300, reg_lambda=7, max_depth=4, score=0.834633 - 2.8min\n",
      "[CV]  n_estimators=300, reg_lambda=10, max_depth=4, score=0.834295 - 2.7min\n",
      "\n",
      "[CV]  n_estimators=300, reg_lambda=15, max_depth=4, score=0.840935 - 2.9min[CV]  n_estimators=300, reg_lambda=7, max_depth=4, score=0.842156 - 2.9min\n",
      "\n",
      "[CV]  n_estimators=300, reg_lambda=15, max_depth=4, score=0.827616 - 2.8min\n",
      "[CV]  n_estimators=300, reg_lambda=15, max_depth=4, score=0.833740 - 2.8min[CV]  n_estimators=300, reg_lambda=10, max_depth=4, score=0.841426 - 3.1min\n",
      "\n",
      "[CV] n_estimators=300, reg_lambda=25, max_depth=4 ....................\n",
      "[CV] n_estimators=300, reg_lambda=20, max_depth=4 ....................\n",
      "[CV] n_estimators=300, reg_lambda=20, max_depth=4 ....................\n",
      "\n",
      "\n",
      "[CV] n_estimators=300, reg_lambda=25, max_depth=4 ....................[CV] n_estimators=300, reg_lambda=20, max_depth=4 ....................\n",
      "[CV]  n_estimators=300, reg_lambda=25, max_depth=4, score=0.826927 - 3.1min\n",
      "[CV] n_estimators=300, reg_lambda=25, max_depth=4 ....................\n",
      "[CV]  n_estimators=300, reg_lambda=20, max_depth=4, score=0.833649 - 2.6min[CV] n_estimators=400, reg_lambda=0.5, max_depth=4 ...................[CV] n_estimators=400, reg_lambda=0.5, max_depth=4 ...................\n",
      "\n",
      "[CV]  n_estimators=300, reg_lambda=20, max_depth=4, score=0.827395 - 2.9min\n",
      "[CV]  n_estimators=300, reg_lambda=20, max_depth=4, score=0.841343 - 2.8min[CV]  n_estimators=300, reg_lambda=25, max_depth=4, score=0.841266 - 2.9min\n",
      "\n",
      "[CV]  n_estimators=400, reg_lambda=0.5, max_depth=4, score=0.830696 - 3.8min[CV]  n_estimators=300, reg_lambda=25, max_depth=4, score=0.833480 - 2.7min\n",
      "[CV] n_estimators=400, reg_lambda=2, max_depth=4 .....................\n",
      "\n",
      "[CV] n_estimators=400, reg_lambda=0.5, max_depth=4 ...................[CV]  n_estimators=400, reg_lambda=0.5, max_depth=4, score=0.843504 - 3.8min\n",
      "\n",
      "[CV] n_estimators=400, reg_lambda=1, max_depth=4 .....................\n",
      "[CV] n_estimators=400, reg_lambda=1, max_depth=4 .....................[CV] n_estimators=400, reg_lambda=2, max_depth=4 .....................\n",
      "\n",
      "\n",
      "[CV] n_estimators=400, reg_lambda=2, max_depth=4 .....................\n",
      "[CV] n_estimators=400, reg_lambda=1, max_depth=4 .....................\n",
      "\n",
      "[CV]  n_estimators=400, reg_lambda=2, max_depth=4, score=0.842805 - 3.7min\n",
      "[CV]  n_estimators=400, reg_lambda=2, max_depth=4, score=0.830860 - 4.0min[CV]  n_estimators=400, reg_lambda=0.5, max_depth=4, score=0.835946 - 3.7min[CV] n_estimators=400, reg_lambda=4, max_depth=4 .....................\n",
      "[CV]  n_estimators=400, reg_lambda=2, max_depth=4, score=0.836012 - 4.1min[CV]  n_estimators=400, reg_lambda=1, max_depth=4, score=0.835911 - 3.9min[CV]  n_estimators=400, reg_lambda=1, max_depth=4, score=0.843421 - 3.8min\n",
      "[CV]  n_estimators=400, reg_lambda=1, max_depth=4, score=0.830816 - 3.6min\n",
      "\n",
      "[CV]  n_estimators=400, reg_lambda=4, max_depth=4, score=0.830631 - 3.7min\n",
      "\n",
      "\n",
      "[CV] n_estimators=400, reg_lambda=5, max_depth=4 .....................\n",
      "[CV] n_estimators=400, reg_lambda=7, max_depth=4 .....................[CV] n_estimators=400, reg_lambda=4, max_depth=4 .....................\n",
      "[CV] n_estimators=400, reg_lambda=7, max_depth=4 .....................\n",
      "[CV] n_estimators=400, reg_lambda=5, max_depth=4 .....................\n",
      "[CV] n_estimators=400, reg_lambda=5, max_depth=4 .....................\n",
      "[CV] n_estimators=400, reg_lambda=4, max_depth=4 .....................\n",
      "\n",
      "[CV] n_estimators=400, reg_lambda=7, max_depth=4 .....................\n",
      "[CV]  n_estimators=400, reg_lambda=7, max_depth=4, score=0.836270 - 4.0min[CV]  n_estimators=400, reg_lambda=5, max_depth=4, score=0.842572 - 3.7min\n",
      "[CV]  n_estimators=400, reg_lambda=5, max_depth=4, score=0.836091 - 3.8min\n",
      "[CV]  n_estimators=400, reg_lambda=7, max_depth=4, score=0.829992 - 3.8min[CV]  n_estimators=400, reg_lambda=4, max_depth=4, score=0.842658 - 3.7min[CV]  n_estimators=400, reg_lambda=7, max_depth=4, score=0.842705 - 3.9min\n",
      "\n",
      "[CV]  n_estimators=400, reg_lambda=5, max_depth=4, score=0.830266 - 3.9min\n",
      "[CV]  n_estimators=400, reg_lambda=4, max_depth=4, score=0.836875 - 3.7min\n",
      "\n",
      "\n",
      "[CV] n_estimators=400, reg_lambda=20, max_depth=4 ....................[CV] n_estimators=400, reg_lambda=15, max_depth=4 ....................\n",
      "[CV] n_estimators=400, reg_lambda=15, max_depth=4 ....................\n",
      "[CV] n_estimators=400, reg_lambda=15, max_depth=4 ....................\n",
      "[CV] n_estimators=400, reg_lambda=10, max_depth=4 ....................[CV] n_estimators=400, reg_lambda=20, max_depth=4 ....................\n",
      "\n",
      "[CV] n_estimators=400, reg_lambda=10, max_depth=4 ....................\n",
      "\n",
      "[CV] n_estimators=400, reg_lambda=10, max_depth=4 ....................[CV]  n_estimators=400, reg_lambda=15, max_depth=4, score=0.835941 - 4.0min\n",
      "\n",
      "[CV]  n_estimators=400, reg_lambda=20, max_depth=4, score=0.842619 - 3.8min[CV]  n_estimators=400, reg_lambda=15, max_depth=4, score=0.829606 - 3.9min[CV]  n_estimators=400, reg_lambda=10, max_depth=4, score=0.836167 - 3.8min[CV]  n_estimators=400, reg_lambda=15, max_depth=4, score=0.842329 - 3.8min\n",
      "\n",
      "[CV]  n_estimators=400, reg_lambda=10, max_depth=4, score=0.830309 - 3.8min[CV]  n_estimators=400, reg_lambda=20, max_depth=4, score=0.829722 - 3.9min\n",
      "\n",
      "\n",
      "\n",
      "[CV]  n_estimators=400, reg_lambda=10, max_depth=4, score=0.842526 - 3.8min[CV] n_estimators=500, reg_lambda=0.5, max_depth=4 ...................\n",
      "\n",
      "[CV] n_estimators=500, reg_lambda=1, max_depth=4 .....................[CV] n_estimators=400, reg_lambda=25, max_depth=4 ....................[CV] n_estimators=400, reg_lambda=25, max_depth=4 ....................[CV] n_estimators=500, reg_lambda=0.5, max_depth=4 ...................\n",
      "\n",
      "[CV] n_estimators=400, reg_lambda=25, max_depth=4 ....................[CV] n_estimators=500, reg_lambda=0.5, max_depth=4 ...................\n",
      "\n",
      "\n",
      "\n",
      "\n",
      "[CV] n_estimators=400, reg_lambda=20, max_depth=4 ....................\n",
      "[CV]  n_estimators=500, reg_lambda=0.5, max_depth=4, score=0.842987 - 4.5min\n",
      "[CV]  n_estimators=500, reg_lambda=0.5, max_depth=4, score=0.836004 - 4.8min[CV]  n_estimators=500, reg_lambda=1, max_depth=4, score=0.831331 - 4.5min[CV]  n_estimators=400, reg_lambda=25, max_depth=4, score=0.835552 - 3.6min[CV]  n_estimators=400, reg_lambda=25, max_depth=4, score=0.842738 - 3.9min[CV]  n_estimators=500, reg_lambda=0.5, max_depth=4, score=0.831186 - 4.9min[CV]  n_estimators=400, reg_lambda=20, max_depth=4, score=0.835757 - 3.8min\n",
      "[CV]  n_estimators=400, reg_lambda=25, max_depth=4, score=0.829439 - 4.1min\n",
      "\n",
      "\n",
      "\n",
      "\n",
      "\n",
      "[CV] n_estimators=500, reg_lambda=2, max_depth=4 .....................\n",
      "\n",
      "[CV] n_estimators=500, reg_lambda=4, max_depth=4 .....................[CV] n_estimators=500, reg_lambda=4, max_depth=4 .....................\n",
      "[CV] n_estimators=500, reg_lambda=2, max_depth=4 .....................[CV] n_estimators=500, reg_lambda=2, max_depth=4 .....................[CV] n_estimators=500, reg_lambda=4, max_depth=4 .....................[CV] n_estimators=500, reg_lambda=1, max_depth=4 .....................[CV]  n_estimators=500, reg_lambda=2, max_depth=4, score=0.836569 - 5.3min[CV] n_estimators=500, reg_lambda=1, max_depth=4 .....................\n",
      "\n",
      "[CV]  n_estimators=500, reg_lambda=4, max_depth=4, score=0.842189 - 5.6min\n",
      "\n",
      "\n",
      "\n",
      "\n",
      "[CV]  n_estimators=500, reg_lambda=1, max_depth=4, score=0.836529 - 5.2min[CV]  n_estimators=500, reg_lambda=4, max_depth=4, score=0.837006 - 4.9min\n",
      "[CV]  n_estimators=500, reg_lambda=2, max_depth=4, score=0.831170 - 4.8min[CV]  n_estimators=500, reg_lambda=2, max_depth=4, score=0.842158 - 4.9min[CV]  n_estimators=500, reg_lambda=4, max_depth=4, score=0.830492 - 5.1min[CV]  n_estimators=500, reg_lambda=1, max_depth=4, score=0.842801 - 5.4min[CV] n_estimators=500, reg_lambda=7, max_depth=4 .....................\n",
      "\n",
      "[CV] n_estimators=500, reg_lambda=10, max_depth=4 ....................\n",
      "\n",
      "\n",
      "\n",
      "\n",
      "\n",
      "[CV] n_estimators=500, reg_lambda=7, max_depth=4 .....................\n",
      "[CV] n_estimators=500, reg_lambda=10, max_depth=4 ....................[CV]  n_estimators=500, reg_lambda=10, max_depth=4, score=0.842362 - 5.8min[CV] n_estimators=500, reg_lambda=5, max_depth=4 .....................[CV] n_estimators=500, reg_lambda=5, max_depth=4 .....................[CV] n_estimators=500, reg_lambda=7, max_depth=4 .....................\n",
      "[CV] n_estimators=500, reg_lambda=5, max_depth=4 .....................[CV]  n_estimators=500, reg_lambda=7, max_depth=4, score=0.836931 - 5.0min[CV]  n_estimators=500, reg_lambda=7, max_depth=4, score=0.830209 - 5.6min\n",
      "\n",
      "\n",
      "\n",
      "[CV]  n_estimators=500, reg_lambda=7, max_depth=4, score=0.842691 - 4.9min\n",
      "\n",
      "\n",
      "[CV]  n_estimators=500, reg_lambda=10, max_depth=4, score=0.830243 - 5.3min[CV] n_estimators=500, reg_lambda=25, max_depth=4 ....................\n",
      "[CV]  n_estimators=500, reg_lambda=5, max_depth=4, score=0.830135 - 5.4min[CV]  n_estimators=500, reg_lambda=5, max_depth=4, score=0.836627 - 5.1min\n",
      "[CV]  n_estimators=500, reg_lambda=5, max_depth=4, score=0.842317 - 5.1min[CV] n_estimators=500, reg_lambda=20, max_depth=4 ....................\n",
      "[CV] n_estimators=500, reg_lambda=15, max_depth=4 ....................\n",
      "\n",
      "[CV]  n_estimators=500, reg_lambda=25, max_depth=4, score=0.830211 - 5.3min\n",
      "\n",
      "[CV] n_estimators=500, reg_lambda=20, max_depth=4 ....................\n",
      "[CV]  n_estimators=500, reg_lambda=20, max_depth=4, score=0.842589 - 5.6min[CV]  n_estimators=500, reg_lambda=15, max_depth=4, score=0.836753 - 5.6min[CV] n_estimators=500, reg_lambda=20, max_depth=4 ....................\n",
      "[CV] n_estimators=500, reg_lambda=15, max_depth=4 ....................[CV] n_estimators=500, reg_lambda=15, max_depth=4 ....................\n",
      "[CV] n_estimators=500, reg_lambda=10, max_depth=4 ....................\n",
      "\n",
      "\n",
      "[CV] n_estimators=600, reg_lambda=1, max_depth=4 .....................\n",
      "\n",
      "[CV]  n_estimators=500, reg_lambda=20, max_depth=4, score=0.830467 - 5.1min\n",
      "[CV] n_estimators=600, reg_lambda=1, max_depth=4 .....................[CV] n_estimators=600, reg_lambda=0.5, max_depth=4 ...................[CV]  n_estimators=500, reg_lambda=20, max_depth=4, score=0.836576 - 5.3min\n",
      "[CV]  n_estimators=500, reg_lambda=15, max_depth=4, score=0.842208 - 5.8min[CV]  n_estimators=500, reg_lambda=15, max_depth=4, score=0.830006 - 5.2min\n",
      "[CV]  n_estimators=500, reg_lambda=10, max_depth=4, score=0.836694 - 5.4min\n",
      "\n",
      "\n",
      "[CV]  n_estimators=600, reg_lambda=1, max_depth=4, score=0.836393 - 6.2min\n",
      "\n",
      "[CV] n_estimators=600, reg_lambda=0.5, max_depth=4 ...................\n",
      "[CV]  n_estimators=600, reg_lambda=1, max_depth=4, score=0.831192 - 6.1min[CV]  n_estimators=600, reg_lambda=0.5, max_depth=4, score=0.842465 - 6.7min[CV] n_estimators=600, reg_lambda=1, max_depth=4 .....................\n",
      "\n",
      "[CV] n_estimators=600, reg_lambda=0.5, max_depth=4 ...................[CV] n_estimators=500, reg_lambda=25, max_depth=4 ....................\n",
      "\n",
      "[CV] n_estimators=500, reg_lambda=25, max_depth=4 ....................\n",
      "\n",
      "\n",
      "[CV]  n_estimators=600, reg_lambda=1, max_depth=4, score=0.842611 - 5.8min[CV] n_estimators=600, reg_lambda=5, max_depth=4 .....................\n",
      "[CV]  n_estimators=500, reg_lambda=25, max_depth=4, score=0.842902 - 5.2min[CV]  n_estimators=600, reg_lambda=0.5, max_depth=4, score=0.835694 - 5.7min[CV]  n_estimators=500, reg_lambda=25, max_depth=4, score=0.836442 - 4.6min[CV] n_estimators=600, reg_lambda=4, max_depth=4 .....................[CV] n_estimators=600, reg_lambda=4, max_depth=4 .....................\n",
      "\n",
      "[CV]  n_estimators=600, reg_lambda=0.5, max_depth=4, score=0.831091 - 5.7min\n",
      "\n",
      "\n",
      "\n",
      "\n",
      "[CV] n_estimators=600, reg_lambda=5, max_depth=4 .....................[CV]  n_estimators=600, reg_lambda=5, max_depth=4, score=0.842225 - 5.7min\n",
      "[CV] n_estimators=600, reg_lambda=2, max_depth=4 .....................[CV] n_estimators=600, reg_lambda=4, max_depth=4 .....................[CV] n_estimators=600, reg_lambda=2, max_depth=4 .....................\n",
      "[CV]  n_estimators=600, reg_lambda=4, max_depth=4, score=0.836642 - 6.4min[CV]  n_estimators=600, reg_lambda=4, max_depth=4, score=0.842319 - 6.3min\n",
      "\n",
      "[CV] n_estimators=600, reg_lambda=2, max_depth=4 .....................\n",
      "\n",
      "[CV]  n_estimators=600, reg_lambda=2, max_depth=4, score=0.831184 - 5.8min\n",
      "\n",
      "[CV]  n_estimators=600, reg_lambda=5, max_depth=4, score=0.830037 - 5.9min[CV] n_estimators=600, reg_lambda=15, max_depth=4 ....................\n",
      "[CV]  n_estimators=600, reg_lambda=2, max_depth=4, score=0.842007 - 6.2min[CV]  n_estimators=600, reg_lambda=4, max_depth=4, score=0.830606 - 5.2min\n",
      "[CV] n_estimators=600, reg_lambda=10, max_depth=4 ....................[CV] n_estimators=600, reg_lambda=10, max_depth=4 ....................\n",
      "\n",
      "[CV]  n_estimators=600, reg_lambda=2, max_depth=4, score=0.836542 - 6.2min\n",
      "\n",
      "[CV] n_estimators=600, reg_lambda=5, max_depth=4 .....................\n",
      "\n",
      "[CV] n_estimators=600, reg_lambda=10, max_depth=4 ....................[CV]  n_estimators=600, reg_lambda=15, max_depth=4, score=0.829906 - 5.7min\n",
      "[CV] n_estimators=600, reg_lambda=7, max_depth=4 .....................\n",
      "[CV] n_estimators=600, reg_lambda=7, max_depth=4 .....................\n",
      "[CV]  n_estimators=600, reg_lambda=10, max_depth=4, score=0.836659 - 5.2min[CV]  n_estimators=600, reg_lambda=10, max_depth=4, score=0.830369 - 5.5min\n",
      "\n",
      "[CV] n_estimators=600, reg_lambda=7, max_depth=4 .....................[CV]  n_estimators=600, reg_lambda=7, max_depth=4, score=0.830234 - 5.6min\n",
      "[CV]  n_estimators=600, reg_lambda=5, max_depth=4, score=0.836123 - 5.8min\n",
      "\n",
      "[CV]  n_estimators=600, reg_lambda=10, max_depth=4, score=0.842301 - 5.9min[CV] n_estimators=600, reg_lambda=25, max_depth=4 ....................\n",
      "\n",
      "[CV]  n_estimators=600, reg_lambda=7, max_depth=4, score=0.842730 - 5.7min\n",
      "[CV] n_estimators=600, reg_lambda=25, max_depth=4 ....................\n",
      "[CV] n_estimators=600, reg_lambda=20, max_depth=4 ....................\n",
      "\n",
      "[CV]  n_estimators=600, reg_lambda=7, max_depth=4, score=0.836853 - 5.5min[CV] n_estimators=600, reg_lambda=15, max_depth=4 ....................\n",
      "\n",
      "[CV] n_estimators=600, reg_lambda=15, max_depth=4 ....................[CV]  n_estimators=600, reg_lambda=25, max_depth=4, score=0.830281 - 5.4min\n",
      "[CV] n_estimators=600, reg_lambda=25, max_depth=4 ....................[CV]  n_estimators=600, reg_lambda=25, max_depth=4, score=0.836783 - 5.3min\n",
      "[CV]  n_estimators=600, reg_lambda=15, max_depth=4, score=0.836936 - 5.7min[CV] n_estimators=600, reg_lambda=20, max_depth=4 ....................\n",
      "\n",
      "[CV]  n_estimators=600, reg_lambda=20, max_depth=4, score=0.836777 - 5.5min\n",
      "\n",
      "[CV] n_estimators=600, reg_lambda=20, max_depth=4 ....................\n",
      "\n",
      "\n",
      "[CV]  n_estimators=600, reg_lambda=15, max_depth=4, score=0.842349 - 5.8min[CV] n_estimators=300, reg_lambda=1, max_depth=5 .....................\n",
      "\n",
      "[CV]  n_estimators=600, reg_lambda=25, max_depth=4, score=0.842914 - 5.8min[CV] n_estimators=300, reg_lambda=4, max_depth=5 .....................[CV]  n_estimators=600, reg_lambda=20, max_depth=4, score=0.842699 - 5.5min[CV] n_estimators=300, reg_lambda=0.5, max_depth=5 ...................\n",
      "[CV]  n_estimators=600, reg_lambda=20, max_depth=4, score=0.830379 - 5.4min\n",
      "[CV]  n_estimators=300, reg_lambda=1, max_depth=5, score=0.835158 - 3.6min[CV] n_estimators=300, reg_lambda=1, max_depth=5 .....................\n",
      "\n",
      "\n",
      "[CV]  n_estimators=300, reg_lambda=0.5, max_depth=5, score=0.843376 - 3.6min\n",
      "[CV] n_estimators=300, reg_lambda=0.5, max_depth=5 ...................\n",
      "\n",
      "[CV] n_estimators=300, reg_lambda=2, max_depth=5 .....................\n",
      "[CV]  n_estimators=300, reg_lambda=4, max_depth=5, score=0.843607 - 3.7min[CV] n_estimators=300, reg_lambda=1, max_depth=5 .....................\n",
      "[CV] n_estimators=300, reg_lambda=0.5, max_depth=5 ...................\n",
      "[CV] n_estimators=300, reg_lambda=5, max_depth=5 .....................[CV]  n_estimators=300, reg_lambda=1, max_depth=5, score=0.843647 - 3.6min[CV]  n_estimators=300, reg_lambda=2, max_depth=5, score=0.843776 - 3.7min\n",
      "\n",
      "[CV] n_estimators=300, reg_lambda=2, max_depth=5 .....................\n",
      "[CV]  n_estimators=300, reg_lambda=0.5, max_depth=5, score=0.830294 - 3.8min\n",
      "\n",
      "\n",
      "[CV] n_estimators=300, reg_lambda=10, max_depth=5 ....................[CV]  n_estimators=300, reg_lambda=1, max_depth=5, score=0.830487 - 3.3min\n",
      "[CV]  n_estimators=300, reg_lambda=0.5, max_depth=5, score=0.835264 - 3.3min\n",
      "[CV]  n_estimators=300, reg_lambda=5, max_depth=5, score=0.843509 - 3.7min[CV] n_estimators=300, reg_lambda=5, max_depth=5 .....................[CV] n_estimators=300, reg_lambda=7, max_depth=5 .....................\n",
      "\n",
      "\n",
      "[CV]  n_estimators=300, reg_lambda=2, max_depth=5, score=0.835490 - 3.6min\n",
      "[CV] n_estimators=300, reg_lambda=2, max_depth=5 .....................\n",
      "\n",
      "[CV]  n_estimators=300, reg_lambda=7, max_depth=5, score=0.830091 - 3.8min[CV]  n_estimators=300, reg_lambda=10, max_depth=5, score=0.843538 - 3.5min[CV] n_estimators=300, reg_lambda=4, max_depth=5 .....................\n",
      "[CV] n_estimators=300, reg_lambda=4, max_depth=5 .....................\n",
      "[CV] n_estimators=300, reg_lambda=15, max_depth=5 ....................\n",
      "[CV]  n_estimators=300, reg_lambda=5, max_depth=5, score=0.830362 - 3.4min\n",
      "\n",
      "\n",
      "[CV] n_estimators=300, reg_lambda=7, max_depth=5 .....................\n",
      "[CV]  n_estimators=300, reg_lambda=2, max_depth=5, score=0.830457 - 3.4min[CV]  n_estimators=300, reg_lambda=15, max_depth=5, score=0.828517 - 3.6min\n",
      "[CV] n_estimators=300, reg_lambda=15, max_depth=5 ....................\n",
      "[CV] n_estimators=300, reg_lambda=25, max_depth=5 ....................[CV]  n_estimators=300, reg_lambda=4, max_depth=5, score=0.835595 - 3.3min\n",
      "[CV]  n_estimators=300, reg_lambda=4, max_depth=5, score=0.830714 - 3.7min\n",
      "\n",
      "[CV] n_estimators=300, reg_lambda=10, max_depth=5 ....................[CV]  n_estimators=300, reg_lambda=15, max_depth=5, score=0.835177 - 3.5min\n",
      "\n",
      "[CV]  n_estimators=300, reg_lambda=7, max_depth=5, score=0.843477 - 3.9min\n",
      "[CV] n_estimators=300, reg_lambda=5, max_depth=5 .....................[CV] n_estimators=400, reg_lambda=0.5, max_depth=5 ...................\n",
      "\n",
      "\n",
      "[CV]  n_estimators=300, reg_lambda=25, max_depth=5, score=0.827477 - 3.4min"
     ]
    }
   ],
   "source": [
    "xgb_model = xgb.XGBClassifier(missing=np.nan, gamma=0, reg_lambda=2, max_depth=5, n_estimators=500, learning_rate=0.02, nthread=8, subsample=0.95, colsample_bytree=0.85, seed=4242)\n",
    "\n",
    "clf = GridSearchCV(xgb_model,\n",
    "                   {'max_depth': [4,5,6,7],\n",
    "                    'n_estimators': [300,400,500,600],\n",
    "                    'reg_lambda': [0.5,1,2,4,5,7,10,15,20,25]\n",
    "                    }, verbose=5, scoring = \"roc_auc\", n_jobs=8)\n",
    "\n",
    "clf.fit(X_fit, y_fit)\n",
    "\n",
    "print(clf.best_score_)\n",
    "print(clf.best_params_)\n",
    "\n",
    "## {'n_estimators': 400, 'reg_lambda': 4, 'max_depth': 5}"
   ]
  },
  {
   "cell_type": "code",
   "execution_count": 35,
   "metadata": {
    "collapsed": true
   },
   "outputs": [],
   "source": [
    "GridSearchCV??"
   ]
  },
  {
   "cell_type": "code",
   "execution_count": 18,
   "metadata": {
    "collapsed": false
   },
   "outputs": [],
   "source": [
    "xgb.XGBClassifier??"
   ]
  },
  {
   "cell_type": "code",
   "execution_count": 22,
   "metadata": {
    "collapsed": false
   },
   "outputs": [
    {
     "name": "stdout",
     "output_type": "stream",
     "text": [
      "Completed!\n"
     ]
    }
   ],
   "source": [
    "# predicting\n",
    "y_pred= clf.predict_proba(X_test)[:,1]\n",
    "\n",
    "submission = pd.DataFrame({\"ID\":id_test, \"TARGET\":y_pred})\n",
    "submission.to_csv(\"predictions/submission_xgb.csv\", index=False)\n",
    "\n",
    "print('Completed!')"
   ]
  },
  {
   "cell_type": "code",
   "execution_count": 11,
   "metadata": {
    "collapsed": false
   },
   "outputs": [
    {
     "name": "stdout",
     "output_type": "stream",
     "text": [
      "(0.82925183744912734, 0.81684513695019678, 0.82676223764149526)\n",
      "(0.8387333682605963, 0.81403982661370033, 0.83378117410530594)\n",
      "(0.85722421034670082, 0.842733223637958, 0.85432520938338907)\n",
      "(0.85429906580611092, 0.8525390044123603, 0.85394502559547192)\n",
      "(0.85567309707810935, 0.83600849244319786, 0.8517707345870571)\n",
      "\n",
      "\n",
      "('results: ', 0.81403982661370033, 0.8525390044123603, 0.83243313681148268)\n"
     ]
    }
   ],
   "source": [
    "## Learning with cross_validation\n",
    "\n",
    "skf = StratifiedKFold (y_train,n_folds=5, random_state = 48)\n",
    "\n",
    "rc_eval_dt = []\n",
    "for fit_index, test_index in skf:\n",
    "        # print(\"TRAIN:\", fit_index, \"TEST:\", test_index)\n",
    "        X_fit, X_eval = X_train[fit_index], X_train[test_index]\n",
    "        y_fit, y_eval = y_train[fit_index], y_train[test_index]\n",
    "        \n",
    "        clf.fit(X_fit, y_fit, early_stopping_rounds=20, eval_metric=\"auc\", eval_set=[(X_eval, y_eval)])\n",
    "        \n",
    "        rc_fit  = roc_auc_score(y_fit, clf.predict_proba(X_fit)[:,1])\n",
    "        rc_eval = roc_auc_score(y_eval, clf.predict_proba(X_eval)[:,1])\n",
    "        rc_train  = roc_auc_score(y_train, clf.predict_proba(X_train)[:,1])\n",
    "        \n",
    "        rc_eval_dt.append(rc_eval)\n",
    "        print (rc_fit,rc_eval,rc_train)\n",
    "\n",
    "rc_eval_dt = np.array(rc_eval_dt)\n",
    "print (\"\\n\")\n",
    "print (\"results: \", rc_eval_dt.min(),rc_eval_dt.max(),rc_eval_dt.mean())"
   ]
  },
  {
   "cell_type": "code",
   "execution_count": 12,
   "metadata": {
    "collapsed": false,
    "scrolled": true
   },
   "outputs": [
    {
     "name": "stdout",
     "output_type": "stream",
     "text": [
      "(0.82581993002108967, 0.81269680625857832, 0.82319398494389151)\n",
      "(0.86104645919428469, 0.82507184046967996, 0.85385450564596777)\n",
      "(0.83039059245682523, 0.82318304141652632, 0.82894476104773207)\n",
      "(0.83222389229268878, 0.84593146016740117, 0.83496609071694428)\n",
      "(0.85769822822451824, 0.83669988224438052, 0.85352193817454669)\n",
      "('results: ', 50, ' -- ', 0.81269680625857832, 0.84593146016740117, 0.82871660611131337)\n",
      "(0.82733447416914574, 0.81358111915746611, 0.82458376213440876)\n",
      "(0.85998455910990956, 0.82430600092867645, 0.85286227631919442)\n",
      "(0.82385337019831295, 0.81647925396830456, 0.82237803274614718)\n",
      "(0.85563373163944945, 0.85193541285457441, 0.85489688293370025)\n",
      "(0.85948815896567154, 0.83640634781869516, 0.85489201316076291)\n",
      "('results: ', 75, ' -- ', 0.81358111915746611, 0.85193541285457441, 0.82854162694554334)\n",
      "(0.86151882117940148, 0.83478608705306312, 0.85617356255048715)\n",
      "(0.86176085492922494, 0.82525998730975725, 0.85446189541780371)\n",
      "(0.82026233281146843, 0.81221392099839773, 0.81865052094322011)\n",
      "(0.82098285638524904, 0.83660667139026157, 0.82411022851023608)\n",
      "(0.85971514416058237, 0.83582759729538103, 0.85495780176692027)\n",
      "('results: ', 100, ' -- ', 0.81221392099839773, 0.83660667139026157, 0.82893885280937218)\n",
      "(0.86249645934869779, 0.83526458746587129, 0.85704945461821491)\n",
      "(0.83746034196582664, 0.81423240980611311, 0.83281573877465198)\n",
      "(0.85820952739989886, 0.8417945295802105, 0.85491325438633814)\n",
      "(0.85465666573276433, 0.85242966967577438, 0.8542206242364998)\n",
      "(0.85992441152954635, 0.8366346460414672, 0.855297916361898)\n",
      "('results: ', 125, ' -- ', 0.81423240980611311, 0.85242966967577438, 0.83607116851388741)\n",
      "(0.85811170524839842, 0.83441286469375631, 0.85337054037167892)\n",
      "(0.86016423342108128, 0.82571357589791194, 0.85327377782404756)\n",
      "(0.85942894717779539, 0.84293867494599795, 0.85612755583168487)\n",
      "(0.85602150023681856, 0.85225857420210716, 0.85527241550791422)\n",
      "(0.83205264605523743, 0.82190949613494013, 0.83003365957913067)\n",
      "('results: ', 150, ' -- ', 0.82190949613494013, 0.85225857420210716, 0.83544663717494261)\n",
      "(0.85958513066349973, 0.83470242199811939, 0.85461147189371967)\n",
      "(0.85895876822521933, 0.82572762434697466, 0.85232225287798791)\n",
      "(0.86069415287894524, 0.84301756779324366, 0.85715381209923514)\n",
      "(0.85680769942316415, 0.85252236775624612, 0.85596032614428874)\n",
      "(0.86222500116826684, 0.83654741754656725, 0.85712416544977743)\n",
      "('results: ', 175, ' -- ', 0.82572762434697466, 0.85252236775624612, 0.83850347988823037)\n",
      "(0.85986026718146458, 0.83437049184132062, 0.85476295848627615)\n",
      "(0.83856073504767814, 0.81479343774762536, 0.83379862924748016)\n",
      "(0.83076830408712554, 0.82384222613659164, 0.82937058956571985)\n",
      "(0.85619306654740035, 0.8529702470497853, 0.85555047066366829)\n",
      "(0.86009408229592299, 0.83671657587534454, 0.85543926499330925)\n",
      "('results: ', 200, ' -- ', 0.81479343774762536, 0.8529702470497853, 0.83253859573013356)\n",
      "(0.82766460881586501, 0.81397248506029907, 0.82492075998364001)\n",
      "(0.83942468385184199, 0.81503311452636928, 0.83453955188144535)\n",
      "(0.85700438525896072, 0.84263789241086073, 0.85412655725275699)\n",
      "(0.85420793031680775, 0.85252031666165662, 0.8538753871594702)\n",
      "(0.86115310826217573, 0.83736540546379679, 0.85642283846374423)\n",
      "('results: ', 225, ' -- ', 0.81397248506029907, 0.85252031666165662, 0.83230584282459641)\n",
      "(0.8279328394360479, 0.81400433579501597, 0.82514992844734936)\n",
      "(0.86281613019048309, 0.82582937606913254, 0.85541857471913685)\n",
      "(0.86072301412763819, 0.84295408948212169, 0.8571650474098691)\n",
      "(0.85528581570317197, 0.85293782836030252, 0.85481446561247287)\n",
      "(0.85946831443159233, 0.83629598753481449, 0.8548656494531357)\n",
      "('results: ', 250, ' -- ', 0.81400433579501597, 0.85293782836030252, 0.83440432344827742)\n",
      "(0.82415459821002823, 0.81182153669329771, 0.82168357216272236)\n",
      "(0.83771904806856379, 0.81423946246880052, 0.83301509894613646)\n",
      "(0.85846850658550222, 0.8424241934727914, 0.85525023629895869)\n",
      "(0.85866927319998521, 0.85202771211109829, 0.85734654264061516)\n",
      "(0.86106908550910144, 0.83707580230274115, 0.85630243509227866)\n",
      "('results: ', 275, ' -- ', 0.81182153669329771, 0.85202771211109829, 0.83151774140974588)\n",
      "(0.82586485215678973, 0.81282455045531765, 0.82325335109588504)\n",
      "(0.8568020609732212, 0.82518263552544502, 0.85047956403770997)\n",
      "(0.82693557153170827, 0.82015502359163461, 0.82557512405422129)\n",
      "(0.83228541390470223, 0.84505951706749993, 0.83483908048196098)\n",
      "(0.86062190778237901, 0.83667532608415729, 0.85585730961523665)\n",
      "('results: ', 300, ' -- ', 0.81282455045531765, 0.84505951706749993, 0.82797941054481095)\n",
      "(0.86044677394382929, 0.83361949701774751, 0.85508320695752715)\n",
      "(0.85734219041586057, 0.82506256963082492, 0.85088725213925775)\n",
      "(0.85943867077156733, 0.84300920640280008, 0.85614117708062576)\n",
      "(0.85457908711871389, 0.85293885390759727, 0.85425313719924789)\n",
      "(0.86276314012225508, 0.83721362446418013, 0.85768225417768695)\n",
      "('results: ', 325, ' -- ', 0.82506256963082492, 0.85293885390759727, 0.83836875028462998)\n"
     ]
    }
   ],
   "source": [
    "d_var = [50,75,100,125,150,175,200,225,250,275,300,325]\n",
    "\n",
    "for d in d_var:\n",
    "    skf = StratifiedKFold (y_train,n_folds=5, random_state = 48)\n",
    "\n",
    "    rc_eval_dt = []\n",
    "    for fit_index, test_index in skf:\n",
    "\n",
    "            # print(\"TRAIN:\", fit_index, \"TEST:\", test_index)\n",
    "            X_fit, X_eval = X_train[fit_index][:,feature_selected[0:d]], X_train[test_index][:,feature_selected[0:d]]\n",
    "            y_fit, y_eval = y_train[fit_index], y_train[test_index]\n",
    "            \n",
    "            clf = xgb.XGBClassifier(missing=np.nan, max_depth=3, n_estimators=550, learning_rate=0.03, nthread=8, subsample=0.95, colsample_bytree=0.85, seed=4242)\n",
    "            clf.fit(X_fit, y_fit, early_stopping_rounds=20, eval_metric=\"auc\", eval_set=[(X_eval, y_eval)])    \n",
    "            \n",
    "            rc_fit  = roc_auc_score(y_fit, clf.predict_proba(X_fit)[:,1])\n",
    "            rc_eval = roc_auc_score(y_eval, clf.predict_proba(X_eval)[:,1])\n",
    "            rc_train  = roc_auc_score(y_train, clf.predict_proba(X_train[:,feature_selected[0:d]])[:,1])\n",
    "            rc_eval_dt.append(rc_eval)\n",
    "            \n",
    "            print (rc_fit,rc_eval,rc_train)\n",
    "\n",
    "    rc_eval_dt = np.array(rc_eval_dt)\n",
    "\n",
    "    #print (\"\\n\")\n",
    "    print (\"results: \",d,\" -- \",rc_eval_dt.min(),rc_eval_dt.max(),rc_eval_dt.mean())"
   ]
  },
  {
   "cell_type": "code",
   "execution_count": 22,
   "metadata": {
    "collapsed": false
   },
   "outputs": [
    {
     "name": "stdout",
     "output_type": "stream",
     "text": [
      "0.0389634306761\n",
      "(38010, 1481)\n",
      "0.0401736385162\n",
      "(38010, 1527)\n"
     ]
    }
   ],
   "source": [
    "print (sum(y_fit==1)*1.0/len(y_fit))\n",
    "print (len(y_fit), sum(y_fit==1))\n",
    "print (sum(y_eval==1)*1.0/len(y_eval))\n",
    "print (len(y_eval), sum(y_eval==1))"
   ]
  },
  {
   "cell_type": "code",
   "execution_count": 23,
   "metadata": {
    "collapsed": false
   },
   "outputs": [
    {
     "data": {
      "text/plain": [
       "array([  39205.17      ,   49278.03      ,   67333.77      , ...,\n",
       "         74028.15      ,   84278.16      ,  117310.97901649])"
      ]
     },
     "execution_count": 23,
     "metadata": {},
     "output_type": "execute_result"
    }
   ],
   "source": [
    "X_train.max(axis=1)"
   ]
  },
  {
   "cell_type": "code",
   "execution_count": 24,
   "metadata": {
    "collapsed": false
   },
   "outputs": [
    {
     "data": {
      "text/plain": [
       "array([ 0., -1.,  0., ...,  0.,  0.,  0.])"
      ]
     },
     "execution_count": 24,
     "metadata": {},
     "output_type": "execute_result"
    }
   ],
   "source": [
    "X_train.min(axis=1)"
   ]
  },
  {
   "cell_type": "code",
   "execution_count": 25,
   "metadata": {
    "collapsed": false
   },
   "outputs": [
    {
     "ename": "NameError",
     "evalue": "name 'hist' is not defined",
     "output_type": "error",
     "traceback": [
      "\u001b[1;31m---------------------------------------------------------------------------\u001b[0m",
      "\u001b[1;31mNameError\u001b[0m                                 Traceback (most recent call last)",
      "\u001b[1;32m<ipython-input-25-cb2f700abd97>\u001b[0m in \u001b[0;36m<module>\u001b[1;34m()\u001b[0m\n\u001b[0;32m      6\u001b[0m \u001b[0mdata_plt\u001b[0m \u001b[1;33m=\u001b[0m \u001b[0mnp\u001b[0m\u001b[1;33m.\u001b[0m\u001b[0mlog\u001b[0m\u001b[1;33m(\u001b[0m\u001b[0mdata_plt\u001b[0m\u001b[1;33m+\u001b[0m\u001b[1;36m1\u001b[0m\u001b[1;33m)\u001b[0m\u001b[1;33m\u001b[0m\u001b[0m\n\u001b[0;32m      7\u001b[0m \u001b[1;31m#data_plt = data_plt[data_plt<25]\u001b[0m\u001b[1;33m\u001b[0m\u001b[1;33m\u001b[0m\u001b[0m\n\u001b[1;32m----> 8\u001b[1;33m \u001b[0mplt\u001b[0m \u001b[1;33m=\u001b[0m \u001b[0mhist\u001b[0m\u001b[1;33m(\u001b[0m\u001b[0mdata_plt\u001b[0m\u001b[1;33m,\u001b[0m\u001b[1;36m10\u001b[0m\u001b[1;33m)\u001b[0m\u001b[1;33m\u001b[0m\u001b[0m\n\u001b[0m\u001b[0;32m      9\u001b[0m \u001b[1;33m\u001b[0m\u001b[0m\n\u001b[0;32m     10\u001b[0m \u001b[1;32mfor\u001b[0m \u001b[0mj\u001b[0m \u001b[1;32min\u001b[0m \u001b[0munique\u001b[0m\u001b[1;33m(\u001b[0m\u001b[0mdata_plt\u001b[0m\u001b[1;33m)\u001b[0m\u001b[1;33m:\u001b[0m\u001b[1;33m\u001b[0m\u001b[0m\n",
      "\u001b[1;31mNameError\u001b[0m: name 'hist' is not defined"
     ]
    }
   ],
   "source": [
    "%matplotlib inline  \n",
    "import matplotlib.pyplot as plt\n",
    "\n",
    "data_plt = X_train[:,28]\n",
    "data_plt = data_plt[data_plt>=0]            \n",
    "data_plt = np.log(data_plt+1)\n",
    "#data_plt = data_plt[data_plt<25]\n",
    "plt = hist(data_plt,10)\n",
    "\n",
    "for j in unique(data_plt):\n",
    "    print round(j,2), sum(data_plt==j), sum(y_train[data_plt==j])"
   ]
  },
  {
   "cell_type": "code",
   "execution_count": null,
   "metadata": {
    "collapsed": true
   },
   "outputs": [],
   "source": []
  }
 ],
 "metadata": {
  "kernelspec": {
   "display_name": "Python 2",
   "language": "python",
   "name": "python2"
  },
  "language_info": {
   "codemirror_mode": {
    "name": "ipython",
    "version": 2
   },
   "file_extension": ".py",
   "mimetype": "text/x-python",
   "name": "python",
   "nbconvert_exporter": "python",
   "pygments_lexer": "ipython2",
   "version": "2.7.11"
  }
 },
 "nbformat": 4,
 "nbformat_minor": 0
}
