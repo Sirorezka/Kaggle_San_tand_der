{
 "cells": [
  {
   "cell_type": "code",
   "execution_count": 1,
   "metadata": {
    "collapsed": false
   },
   "outputs": [
    {
     "name": "stderr",
     "output_type": "stream",
     "text": [
      "/home/sirorezka/anaconda2/envs/py27/lib/python2.7/site-packages/sklearn/cross_validation.py:43: DeprecationWarning: This module has been deprecated in favor of the model_selection module into which all the refactored classes and functions are moved. Also note that the interface of the new CV iterators are different from that of this module. This module will be removed in 0.20.\n",
      "  \"This module will be removed in 0.20.\", DeprecationWarning)\n"
     ]
    }
   ],
   "source": [
    "# This Python 3 environment comes with many helpful analytics libraries installed\n",
    "# It is defined by the kaggle/python docker image: https://github.com/kaggle/docker-python\n",
    "# For example, here's several helpful packages to load in \n",
    "#from __future__ import division\n",
    "\n",
    "import matplotlib.pyplot as plt\n",
    "import numpy as np\n",
    "import pandas as pd\n",
    "import xgboost as xgb\n",
    "from sklearn.cross_validation import train_test_split\n",
    "from sklearn.ensemble import RandomForestClassifier\n",
    "from sklearn.preprocessing import PolynomialFeatures\n",
    "\n",
    "from sklearn.metrics import roc_auc_score\n",
    "from sklearn.pipeline import Pipeline\n",
    "from sklearn.svm import OneClassSVM\n",
    "from sklearn.manifold import TSNE\n",
    "from sklearn.decomposition import PCA\n",
    "from sklearn.cross_validation import StratifiedKFold \n",
    "from sklearn.ensemble import ExtraTreesClassifier\n",
    "from scipy.stats import describe"
   ]
  },
  {
   "cell_type": "code",
   "execution_count": 2,
   "metadata": {
    "collapsed": false
   },
   "outputs": [
    {
     "name": "stdout",
     "output_type": "stream",
     "text": [
      "(75818, 370)\n",
      "(76020, 371)\n"
     ]
    }
   ],
   "source": [
    "df_train = pd.read_csv(\"Data/train.csv\")\n",
    "df_test = pd.read_csv(\"Data/test.csv\")\n",
    "\n",
    "print(df_test.shape)\n",
    "print(df_train.shape)"
   ]
  },
  {
   "cell_type": "code",
   "execution_count": 3,
   "metadata": {
    "collapsed": false
   },
   "outputs": [
    {
     "name": "stdout",
     "output_type": "stream",
     "text": [
      "(75818, 336)\n",
      "(76020, 337)\n"
     ]
    }
   ],
   "source": [
    "# remove constant columns\n",
    "remove = []\n",
    "for col in df_train.columns:\n",
    "    if df_train[col].std() == 0:\n",
    "        remove.append(col)\n",
    "\n",
    "df_train.drop(remove, axis=1, inplace=True)\n",
    "df_test.drop(remove, axis=1, inplace=True)\n",
    "\n",
    "print(df_test.shape)\n",
    "print(df_train.shape)"
   ]
  },
  {
   "cell_type": "code",
   "execution_count": 4,
   "metadata": {
    "collapsed": false
   },
   "outputs": [
    {
     "data": {
      "text/html": [
       "<div>\n",
       "<table border=\"1\" class=\"dataframe\">\n",
       "  <thead>\n",
       "    <tr style=\"text-align: right;\">\n",
       "      <th></th>\n",
       "      <th>ID</th>\n",
       "      <th>var3</th>\n",
       "      <th>var15</th>\n",
       "      <th>imp_ent_var16_ult1</th>\n",
       "      <th>imp_op_var39_comer_ult1</th>\n",
       "      <th>imp_op_var39_comer_ult3</th>\n",
       "      <th>imp_op_var40_comer_ult1</th>\n",
       "      <th>imp_op_var40_comer_ult3</th>\n",
       "      <th>imp_op_var40_efect_ult1</th>\n",
       "      <th>imp_op_var40_efect_ult3</th>\n",
       "      <th>...</th>\n",
       "      <th>saldo_medio_var33_hace2</th>\n",
       "      <th>saldo_medio_var33_hace3</th>\n",
       "      <th>saldo_medio_var33_ult1</th>\n",
       "      <th>saldo_medio_var33_ult3</th>\n",
       "      <th>saldo_medio_var44_hace2</th>\n",
       "      <th>saldo_medio_var44_hace3</th>\n",
       "      <th>saldo_medio_var44_ult1</th>\n",
       "      <th>saldo_medio_var44_ult3</th>\n",
       "      <th>var38</th>\n",
       "      <th>TARGET</th>\n",
       "    </tr>\n",
       "  </thead>\n",
       "  <tbody>\n",
       "    <tr>\n",
       "      <th>0</th>\n",
       "      <td>1</td>\n",
       "      <td>2</td>\n",
       "      <td>23</td>\n",
       "      <td>0</td>\n",
       "      <td>0</td>\n",
       "      <td>0</td>\n",
       "      <td>0</td>\n",
       "      <td>0</td>\n",
       "      <td>0</td>\n",
       "      <td>0</td>\n",
       "      <td>...</td>\n",
       "      <td>0</td>\n",
       "      <td>0</td>\n",
       "      <td>0</td>\n",
       "      <td>0</td>\n",
       "      <td>0</td>\n",
       "      <td>0</td>\n",
       "      <td>0</td>\n",
       "      <td>0</td>\n",
       "      <td>39205.170000</td>\n",
       "      <td>0</td>\n",
       "    </tr>\n",
       "    <tr>\n",
       "      <th>1</th>\n",
       "      <td>3</td>\n",
       "      <td>2</td>\n",
       "      <td>34</td>\n",
       "      <td>0</td>\n",
       "      <td>0</td>\n",
       "      <td>0</td>\n",
       "      <td>0</td>\n",
       "      <td>0</td>\n",
       "      <td>0</td>\n",
       "      <td>0</td>\n",
       "      <td>...</td>\n",
       "      <td>0</td>\n",
       "      <td>0</td>\n",
       "      <td>0</td>\n",
       "      <td>0</td>\n",
       "      <td>0</td>\n",
       "      <td>0</td>\n",
       "      <td>0</td>\n",
       "      <td>0</td>\n",
       "      <td>49278.030000</td>\n",
       "      <td>0</td>\n",
       "    </tr>\n",
       "    <tr>\n",
       "      <th>2</th>\n",
       "      <td>4</td>\n",
       "      <td>2</td>\n",
       "      <td>23</td>\n",
       "      <td>0</td>\n",
       "      <td>0</td>\n",
       "      <td>0</td>\n",
       "      <td>0</td>\n",
       "      <td>0</td>\n",
       "      <td>0</td>\n",
       "      <td>0</td>\n",
       "      <td>...</td>\n",
       "      <td>0</td>\n",
       "      <td>0</td>\n",
       "      <td>0</td>\n",
       "      <td>0</td>\n",
       "      <td>0</td>\n",
       "      <td>0</td>\n",
       "      <td>0</td>\n",
       "      <td>0</td>\n",
       "      <td>67333.770000</td>\n",
       "      <td>0</td>\n",
       "    </tr>\n",
       "    <tr>\n",
       "      <th>3</th>\n",
       "      <td>8</td>\n",
       "      <td>2</td>\n",
       "      <td>37</td>\n",
       "      <td>0</td>\n",
       "      <td>195</td>\n",
       "      <td>195</td>\n",
       "      <td>0</td>\n",
       "      <td>0</td>\n",
       "      <td>0</td>\n",
       "      <td>0</td>\n",
       "      <td>...</td>\n",
       "      <td>0</td>\n",
       "      <td>0</td>\n",
       "      <td>0</td>\n",
       "      <td>0</td>\n",
       "      <td>0</td>\n",
       "      <td>0</td>\n",
       "      <td>0</td>\n",
       "      <td>0</td>\n",
       "      <td>64007.970000</td>\n",
       "      <td>0</td>\n",
       "    </tr>\n",
       "    <tr>\n",
       "      <th>4</th>\n",
       "      <td>10</td>\n",
       "      <td>2</td>\n",
       "      <td>39</td>\n",
       "      <td>0</td>\n",
       "      <td>0</td>\n",
       "      <td>0</td>\n",
       "      <td>0</td>\n",
       "      <td>0</td>\n",
       "      <td>0</td>\n",
       "      <td>0</td>\n",
       "      <td>...</td>\n",
       "      <td>0</td>\n",
       "      <td>0</td>\n",
       "      <td>0</td>\n",
       "      <td>0</td>\n",
       "      <td>0</td>\n",
       "      <td>0</td>\n",
       "      <td>0</td>\n",
       "      <td>0</td>\n",
       "      <td>117310.979016</td>\n",
       "      <td>0</td>\n",
       "    </tr>\n",
       "  </tbody>\n",
       "</table>\n",
       "<p>5 rows × 337 columns</p>\n",
       "</div>"
      ],
      "text/plain": [
       "   ID  var3  var15  imp_ent_var16_ult1  imp_op_var39_comer_ult1  \\\n",
       "0   1     2     23                   0                        0   \n",
       "1   3     2     34                   0                        0   \n",
       "2   4     2     23                   0                        0   \n",
       "3   8     2     37                   0                      195   \n",
       "4  10     2     39                   0                        0   \n",
       "\n",
       "   imp_op_var39_comer_ult3  imp_op_var40_comer_ult1  imp_op_var40_comer_ult3  \\\n",
       "0                        0                        0                        0   \n",
       "1                        0                        0                        0   \n",
       "2                        0                        0                        0   \n",
       "3                      195                        0                        0   \n",
       "4                        0                        0                        0   \n",
       "\n",
       "   imp_op_var40_efect_ult1  imp_op_var40_efect_ult3   ...    \\\n",
       "0                        0                        0   ...     \n",
       "1                        0                        0   ...     \n",
       "2                        0                        0   ...     \n",
       "3                        0                        0   ...     \n",
       "4                        0                        0   ...     \n",
       "\n",
       "   saldo_medio_var33_hace2  saldo_medio_var33_hace3  saldo_medio_var33_ult1  \\\n",
       "0                        0                        0                       0   \n",
       "1                        0                        0                       0   \n",
       "2                        0                        0                       0   \n",
       "3                        0                        0                       0   \n",
       "4                        0                        0                       0   \n",
       "\n",
       "   saldo_medio_var33_ult3  saldo_medio_var44_hace2  saldo_medio_var44_hace3  \\\n",
       "0                       0                        0                        0   \n",
       "1                       0                        0                        0   \n",
       "2                       0                        0                        0   \n",
       "3                       0                        0                        0   \n",
       "4                       0                        0                        0   \n",
       "\n",
       "   saldo_medio_var44_ult1  saldo_medio_var44_ult3          var38  TARGET  \n",
       "0                       0                       0   39205.170000       0  \n",
       "1                       0                       0   49278.030000       0  \n",
       "2                       0                       0   67333.770000       0  \n",
       "3                       0                       0   64007.970000       0  \n",
       "4                       0                       0  117310.979016       0  \n",
       "\n",
       "[5 rows x 337 columns]"
      ]
     },
     "execution_count": 4,
     "metadata": {},
     "output_type": "execute_result"
    }
   ],
   "source": [
    "df_train.head()"
   ]
  },
  {
   "cell_type": "code",
   "execution_count": 5,
   "metadata": {
    "collapsed": false
   },
   "outputs": [
    {
     "name": "stdout",
     "output_type": "stream",
     "text": [
      "(75818, 307)\n",
      "(76020, 308)\n"
     ]
    }
   ],
   "source": [
    "# remove duplicated columns\n",
    "remove = []\n",
    "c = df_train.columns\n",
    "for i in range(len(c)-1):\n",
    "    v = df_train[c[i]].values\n",
    "    for j in range(i+1,len(c)):\n",
    "        if np.array_equal(v,df_train[c[j]].values):\n",
    "            remove.append(c[j])\n",
    "\n",
    "df_train.drop(remove, axis=1, inplace=True)\n",
    "df_test.drop(remove, axis=1, inplace=True)\n",
    "\n",
    "y_train = df_train['TARGET'].values\n",
    "X_train = df_train.drop(['ID','TARGET'], axis=1).values\n",
    "\n",
    "id_test = df_test['ID']\n",
    "X_test = df_test.drop(['ID'], axis=1).values\n",
    "\n",
    "print(df_test.shape)\n",
    "print(df_train.shape)"
   ]
  },
  {
   "cell_type": "code",
   "execution_count": 6,
   "metadata": {
    "collapsed": false
   },
   "outputs": [
    {
     "name": "stdout",
     "output_type": "stream",
     "text": [
      "(75818, 584)\n",
      "(76020, 584)\n"
     ]
    }
   ],
   "source": [
    "# Adding log features\n",
    "\n",
    "c = X_train.shape[1]\n",
    "\n",
    "for i in range(c):\n",
    "    if sum(X_train[:,i]<0)==0:\n",
    "        new_col = np.log(X_train[:,i]+1)\n",
    "        X_train = np.column_stack((X_train, new_col))\n",
    "        \n",
    "        new_col = np.log(X_test[:,i]+1)\n",
    "        X_test = np.column_stack((X_test, new_col))\n",
    "        \n",
    "print(X_test.shape)\n",
    "print(X_train.shape)"
   ]
  },
  {
   "cell_type": "code",
   "execution_count": 7,
   "metadata": {
    "collapsed": false
   },
   "outputs": [
    {
     "name": "stdout",
     "output_type": "stream",
     "text": [
      "ExtraTrees done\n"
     ]
    }
   ],
   "source": [
    "## Feature selection\n",
    "\n",
    "clf = ExtraTreesClassifier()\n",
    "clf = clf.fit(X_train, y_train)\n",
    "feature_selected = clf.feature_importances_\n",
    "\n",
    "print (\"ExtraTrees done\")"
   ]
  },
  {
   "cell_type": "code",
   "execution_count": 8,
   "metadata": {
    "collapsed": false
   },
   "outputs": [
    {
     "name": "stdout",
     "output_type": "stream",
     "text": [
      "[583 305 306   1 268 270 552 510 356 266 264 267 550 263 549 150 128 143\n",
      " 269 507 265 221 551 509 223 504 152 505 218 233]\n"
     ]
    }
   ],
   "source": [
    "feature_selected = np.argsort(-feature_selected)\n",
    "print (feature_selected[0:30])"
   ]
  },
  {
   "cell_type": "code",
   "execution_count": 9,
   "metadata": {
    "collapsed": false
   },
   "outputs": [],
   "source": [
    "# length of dataset\n",
    "len_train = len(X_train)\n",
    "len_test  = len(X_test)"
   ]
  },
  {
   "cell_type": "code",
   "execution_count": 10,
   "metadata": {
    "collapsed": false
   },
   "outputs": [
    {
     "name": "stdout",
     "output_type": "stream",
     "text": [
      "('Overall AUC:', 0.85571777092748369, 0.85805232177375146)\n"
     ]
    }
   ],
   "source": [
    "# classifier\n",
    "clf = xgb.XGBClassifier(missing=np.nan, max_depth=3, n_estimators=350, learning_rate=0.03, nthread=8, subsample=0.95, colsample_bytree=0.85, seed=4242)\n",
    "\n",
    "X_fit, X_eval, y_fit, y_eval = train_test_split(X_train, y_train, test_size=0.5, random_state = 84)\n",
    "\n",
    "# fitting\n",
    "clf.fit(X_train, y_train, early_stopping_rounds=20, eval_metric=\"auc\", eval_set=[(X_eval, y_eval)])\n",
    "\n",
    "print('Overall AUC:', roc_auc_score(y_train, clf.predict_proba(X_train)[:,1]), roc_auc_score(y_eval, clf.predict_proba(X_eval)[:,1]))"
   ]
  },
  {
   "cell_type": "code",
   "execution_count": null,
   "metadata": {
    "collapsed": false
   },
   "outputs": [
    {
     "name": "stdout",
     "output_type": "stream",
     "text": [
      "(0.82925183744912734, 0.81684513695019678, 0.82676223764149526)\n",
      "(0.8387333682605963, 0.81403982661370033, 0.83378117410530594)"
     ]
    }
   ],
   "source": [
    "## Learning with cross_validation\n",
    "\n",
    "skf = StratifiedKFold (y_train,n_folds=5, random_state = 48)\n",
    "\n",
    "rc_eval_dt = []\n",
    "for fit_index, test_index in skf:\n",
    "        # print(\"TRAIN:\", fit_index, \"TEST:\", test_index)\n",
    "        X_fit, X_eval = X_train[fit_index], X_train[test_index]\n",
    "        y_fit, y_eval = y_train[fit_index], y_train[test_index]\n",
    "        \n",
    "        clf.fit(X_fit, y_fit, early_stopping_rounds=20, eval_metric=\"auc\", eval_set=[(X_eval, y_eval)])\n",
    "        \n",
    "        rc_fit  = roc_auc_score(y_fit, clf.predict_proba(X_fit)[:,1])\n",
    "        rc_eval = roc_auc_score(y_eval, clf.predict_proba(X_eval)[:,1])\n",
    "        rc_train  = roc_auc_score(y_train, clf.predict_proba(X_train)[:,1])\n",
    "        \n",
    "        rc_eval_dt.append(rc_eval)\n",
    "        print (rc_fit,rc_eval,rc_train)\n",
    "\n",
    "rc_eval_dt = np.array(rc_eval_dt)\n",
    "print (\"\\n\")\n",
    "print (\"results: \", rc_eval_dt.min(),rc_eval_dt.max(),rc_eval_dt.mean())"
   ]
  },
  {
   "cell_type": "code",
   "execution_count": 54,
   "metadata": {
    "collapsed": false,
    "scrolled": false
   },
   "outputs": [
    {
     "name": "stdout",
     "output_type": "stream",
     "text": [
      "(0.84102413033826429, 0.82034507768507958, 0.83689119915510835)\n",
      "(0.81075188369480466, 0.78574528330432247, 0.80579093499713261)\n",
      "(0.84164538007261702, 0.82706534307183155, 0.83872565559756418)\n",
      "(0.83913052632043139, 0.84390634610944959, 0.84009047377886592)\n",
      "(0.83582484303791516, 0.8212406113993912, 0.83291238748934882)\n",
      "('results: ', 50, ' -- ', 0.78574528330432247, 0.84390634610944959, 0.81966053231401492)\n",
      "(0.84717482674806699, 0.82340200882583858, 0.8424236459672616)\n",
      "(0.84862963719294959, 0.81341088835566722, 0.84160123033549716)\n",
      "(0.81017486031539887, 0.8036822880950637, 0.80886967647987928)\n",
      "(0.84612920271134662, 0.84715784380732384, 0.84632983677413565)\n",
      "(0.84175033911748165, 0.82272492018393306, 0.83797457678918419)\n",
      "('results: ', 75, ' -- ', 0.8036822880950637, 0.84715784380732384, 0.82207558985356532)\n",
      "(0.84541888927347497, 0.82520419164769088, 0.8413627822109685)\n",
      "(0.82211044535078082, 0.8013886010315544, 0.81799022162343471)\n",
      "(0.8485599795238834, 0.8341605801053058, 0.8456758073723819)\n",
      "(0.82742810499565167, 0.84231555133080716, 0.83041482460694294)\n",
      "(0.84190867573867723, 0.82375690563665871, 0.83829503698969332)\n",
      "('results: ', 100, ' -- ', 0.8013886010315544, 0.84231555133080716, 0.82536516595040332)\n",
      "(0.85180838529549985, 0.82827955071353598, 0.8471010753952134)\n",
      "(0.85072508795751323, 0.81674759407512632, 0.84391135818463525)\n",
      "(0.84841154262093443, 0.83404443072241041, 0.84553002608650174)\n",
      "(0.84455684701507261, 0.84920608965425615, 0.84548812645997573)\n",
      "(0.85321848824908408, 0.8280605578840543, 0.84821658579003634)\n",
      "('results: ', 125, ' -- ', 0.81674759407512632, 0.84920608965425615, 0.83126764460987668)\n",
      "(0.82995202646081001, 0.81331527927520453, 0.82662572463314099)\n",
      "(0.82084000209660357, 0.79839713452590066, 0.81637932623433518)\n",
      "(0.82049205226959998, 0.81293100976928945, 0.81896239586381014)\n",
      "(0.84737849437172741, 0.84956605675469898, 0.84781165244550294)\n",
      "(0.85183951718177464, 0.82891535155419416, 0.84728040097022816)\n",
      "('results: ', 150, ' -- ', 0.79839713452590066, 0.84956605675469898, 0.82062496637585747)\n",
      "(0.83047264434062851, 0.81575766186486498, 0.82751599607715332)\n",
      "(0.85294505479867255, 0.81871221564403429, 0.84608870674567049)\n",
      "(0.85133183704551885, 0.8349623635045671, 0.84805953732030048)\n",
      "(0.82882781680180506, 0.84213647937818115, 0.83149175702026834)\n",
      "(0.84957647567760719, 0.83227025860428483, 0.8461368535236411)\n",
      "('results: ', 175, ' -- ', 0.81575766186486498, 0.84213647937818115, 0.82876779579918636)\n",
      "(0.82298949747080474, 0.80813942113109694, 0.82001475402323842)\n",
      "(0.85378099575773647, 0.8191022165153794, 0.84684053229810075)\n",
      "(0.82190835614268565, 0.81549801351564732, 0.82062966587538522)\n",
      "(0.84770983407622302, 0.84893534516845293, 0.84793357434831451)\n",
      "(0.84887864868253993, 0.83157790023065714, 0.84545106473316545)\n",
      "('results: ', 200, ' -- ', 0.80813942113109694, 0.84893534516845293, 0.82465057931224683)\n",
      "(0.82394165390907903, 0.80673412121434107, 0.82050459535360543)\n",
      "(0.83509772439531837, 0.81107691201666787, 0.8302866009128782)\n",
      "(0.84838484810060111, 0.83429697884192811, 0.84556434216293219)\n",
      "(0.82150427329636266, 0.83569820741169876, 0.82434376360531236)\n",
      "(0.84891488807362703, 0.83235139079026621, 0.84562366505841058)\n",
      "('results: ', 225, ' -- ', 0.80673412121434107, 0.83569820741169876, 0.82403152205498054)\n",
      "(0.85019857106763697, 0.82756529798751122, 0.84567219886835854)\n",
      "(0.85096786530993129, 0.81839387892580218, 0.84444571502236299)\n",
      "(0.84973403676222903, 0.83454042612831003, 0.84669189380556509)\n",
      "(0.84669775572545036, 0.84955973254638151, 0.84725403270928368)\n",
      "(0.85101262247509424, 0.83241138530700676, 0.8473257383513757)\n",
      "('results: ', 250, ' -- ', 0.81839387892580218, 0.84955973254638151, 0.83249414417900236)\n",
      "(0.81998540703034195, 0.8049185724591702, 0.81696699558860042)\n",
      "(0.82861591491432973, 0.80480902868226911, 0.82384426924210064)\n",
      "(0.84674940936194565, 0.83364262893946606, 0.84412186715372339)\n",
      "(0.82848458460233432, 0.84121684832907584, 0.83102162927749568)\n",
      "(0.84873086736190817, 0.83181651090122588, 0.84537449159479472)\n",
      "('results: ', 275, ' -- ', 0.80480902868226911, 0.84121684832907584, 0.82328071786224144)\n",
      "(0.82528374629748158, 0.81274657303157349, 0.82278294104743499)\n",
      "(0.84949366782897795, 0.81802560480563891, 0.84319784424463595)\n",
      "(0.82330610940547966, 0.81733723501217914, 0.82211802921714405)\n",
      "(0.82845253105651806, 0.84094564804447502, 0.83093991772046216)\n",
      "(0.84693619598205794, 0.83146332380789811, 0.84385434154440953)\n",
      "('results: ', 300, ' -- ', 0.81274657303157349, 0.84094564804447502, 0.82410367694035291)\n",
      "(0.82626430195064238, 0.81335702648820851, 0.82368374886786322)\n",
      "(0.83225717315709347, 0.80883393777685963, 0.82756852314644269)\n",
      "(0.84789627042363847, 0.83441284382378789, 0.84519134806315721)\n",
      "(0.84521686626071424, 0.84847162686669542, 0.84585275839238327)\n",
      "(0.84970917444106508, 0.83220826996780473, 0.84623431045217279)\n",
      "('results: ', 325, ' -- ', 0.80883393777685963, 0.84847162686669542, 0.82745674098467126)\n"
     ]
    }
   ],
   "source": [
    "d_var = [50,75,100,125,150,175,200,225,250,275,300,325]\n",
    "\n",
    "for d in d_var:\n",
    "    skf = StratifiedKFold (y_train,n_folds=5, random_state = 48)\n",
    "\n",
    "    rc_eval_dt = []\n",
    "    for fit_index, test_index in skf:\n",
    "\n",
    "            # print(\"TRAIN:\", fit_index, \"TEST:\", test_index)\n",
    "            X_fit, X_eval = X_train[fit_index][:,feature_selected[0:d]], X_train[test_index][:,feature_selected[0:d]]\n",
    "            y_fit, y_eval = y_train[fit_index], y_train[test_index]\n",
    "            \n",
    "            clf = xgb.XGBClassifier(missing=np.nan, max_depth=3, n_estimators=550, learning_rate=0.03, nthread=8, subsample=0.95, colsample_bytree=0.85, seed=4242)\n",
    "            clf.fit(X_fit, y_fit, early_stopping_rounds=20, eval_metric=\"auc\", eval_set=[(X_eval, y_eval)])    \n",
    "            \n",
    "            rc_fit  = roc_auc_score(y_fit, clf.predict_proba(X_fit)[:,1])\n",
    "            rc_eval = roc_auc_score(y_eval, clf.predict_proba(X_eval)[:,1])\n",
    "            rc_train  = roc_auc_score(y_train, clf.predict_proba(X_train[:,feature_selected[0:d]])[:,1])\n",
    "            rc_eval_dt.append(rc_eval)\n",
    "            \n",
    "            print (rc_fit,rc_eval,rc_train)\n",
    "\n",
    "    rc_eval_dt = np.array(rc_eval_dt)\n",
    "\n",
    "    #print (\"\\n\")\n",
    "    print (\"results: \",d,\" -- \",rc_eval_dt.min(),rc_eval_dt.max(),rc_eval_dt.mean())"
   ]
  },
  {
   "cell_type": "code",
   "execution_count": 59,
   "metadata": {
    "collapsed": false
   },
   "outputs": [
    {
     "name": "stdout",
     "output_type": "stream",
     "text": [
      "(0.85156627935341822, 0.8313849956150241, 0.8413412655096919)\n",
      "Completed!\n"
     ]
    }
   ],
   "source": [
    "# predicting\n",
    "\n",
    "d = 250\n",
    "X_fit, X_eval, y_fit, y_eval = train_test_split(X_train, y_train, test_size=0.5, random_state = 84)\n",
    "\n",
    "X_fit   =   X_fit[:,feature_selected[0:d]]\n",
    "X_eval  =   X_eval[:,feature_selected[0:d]]\n",
    "\n",
    "clf = xgb.XGBClassifier(missing=np.nan, max_depth=3, n_estimators=550, learning_rate=0.03, nthread=8, subsample=0.95, colsample_bytree=0.85, seed=4242)\n",
    "clf.fit(X_fit, y_fit, early_stopping_rounds=20, eval_metric=\"auc\", eval_set=[(X_eval, y_eval)])    \n",
    "\n",
    "\n",
    "rc_fit  = roc_auc_score(y_fit, clf.predict_proba(X_fit)[:,1])\n",
    "rc_eval = roc_auc_score(y_eval, clf.predict_proba(X_eval)[:,1])\n",
    "rc_train  = roc_auc_score(y_train, clf.predict_proba(X_train[:,feature_selected[0:d]])[:,1])         \n",
    "print (rc_fit,rc_eval,rc_train)\n",
    "            \n",
    "            \n",
    "y_pred= clf.predict_proba(X_test[:,feature_selected[0:d]])[:,1]\n",
    "\n",
    "submission = pd.DataFrame({\"ID\":id_test, \"TARGET\":y_pred})\n",
    "submission.to_csv(\"predictions/submission_xgb.csv\", index=False)\n",
    "\n",
    "print('Completed!')"
   ]
  },
  {
   "cell_type": "code",
   "execution_count": 60,
   "metadata": {
    "collapsed": false
   },
   "outputs": [
    {
     "name": "stdout",
     "output_type": "stream",
     "text": [
      "0.0389634306761\n",
      "(38010, 1481)\n",
      "0.0401736385162\n",
      "(38010, 1527)\n"
     ]
    }
   ],
   "source": [
    "print (sum(y_fit==1)*1.0/len(y_fit))\n",
    "print (len(y_fit), sum(y_fit==1))\n",
    "print (sum(y_eval==1)*1.0/len(y_eval))\n",
    "print (len(y_eval), sum(y_eval==1))"
   ]
  },
  {
   "cell_type": "code",
   "execution_count": 77,
   "metadata": {
    "collapsed": false
   },
   "outputs": [
    {
     "data": {
      "text/plain": [
       "array([  39205.17      ,   49278.03      ,   67333.77      , ...,\n",
       "         74028.15      ,   84278.16      ,  117310.97901649])"
      ]
     },
     "execution_count": 77,
     "metadata": {},
     "output_type": "execute_result"
    }
   ],
   "source": [
    "X_train.max(axis=1)"
   ]
  },
  {
   "cell_type": "code",
   "execution_count": 78,
   "metadata": {
    "collapsed": false
   },
   "outputs": [
    {
     "data": {
      "text/plain": [
       "array([ 0., -1.,  0., ...,  0.,  0.,  0.])"
      ]
     },
     "execution_count": 78,
     "metadata": {},
     "output_type": "execute_result"
    }
   ],
   "source": [
    "X_train.min(axis=1)"
   ]
  },
  {
   "cell_type": "code",
   "execution_count": 282,
   "metadata": {
    "collapsed": false
   },
   "outputs": [
    {
     "name": "stdout",
     "output_type": "stream",
     "text": [
      "0.0 72564 2977\n",
      "0.69 3456 31\n"
     ]
    },
    {
     "data": {
      "image/png": "[encoded data removed]",
      "text/plain": [
       "<matplotlib.figure.Figure at 0x7ff546335990>"
      ]
     },
     "metadata": {},
     "output_type": "display_data"
    }
   ],
   "source": [
    "%matplotlib inline  \n",
    "import matplotlib.pyplot as plt\n",
    "\n",
    "data_plt = X_train[:,28]\n",
    "data_plt = data_plt[data_plt>=0]            \n",
    "data_plt = np.log(data_plt+1)\n",
    "#data_plt = data_plt[data_plt<25]\n",
    "plt = hist(data_plt,10)\n",
    "\n",
    "for j in unique(data_plt):\n",
    "    print round(j,2), sum(data_plt==j), sum(y_train[data_plt==j])"
   ]
  },
  {
   "cell_type": "code",
   "execution_count": null,
   "metadata": {
    "collapsed": true
   },
   "outputs": [],
   "source": []
  }
 ],
 "metadata": {
  "kernelspec": {
   "display_name": "Python 2",
   "language": "python",
   "name": "python2"
  },
  "language_info": {
   "codemirror_mode": {
    "name": "ipython",
    "version": 2
   },
   "file_extension": ".py",
   "mimetype": "text/x-python",
   "name": "python",
   "nbconvert_exporter": "python",
   "pygments_lexer": "ipython2",
   "version": "2.7.11"
  }
 },
 "nbformat": 4,
 "nbformat_minor": 0
}
