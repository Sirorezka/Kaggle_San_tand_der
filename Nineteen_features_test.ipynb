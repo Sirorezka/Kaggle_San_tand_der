{
 "cells": [
  {
   "cell_type": "code",
   "execution_count": 27,
   "metadata": {
    "collapsed": false
   },
   "outputs": [],
   "source": [
    "import pandas as pd\n",
    "import xgboost as xgb\n",
    "from sklearn.metrics import log_loss, roc_auc_score\n",
    "from sklearn.cross_validation import train_test_split"
   ]
  },
  {
   "cell_type": "code",
   "execution_count": 28,
   "metadata": {
    "collapsed": true
   },
   "outputs": [],
   "source": [
    "nineteenfeatures = ['imp_ent_var16_ult1',\n",
    "                    'var38',\n",
    "                    'ind_var30',\n",
    "                    'delta_imp_aport_var13_1y3',\n",
    "                    'saldo_medio_var13_corto_hace2',\n",
    "                    'num_op_var39_hace3',\n",
    "                    'imp_var43_emit_ult1',\n",
    "                    'num_meses_var5_ult3',\n",
    "                    'delta_num_aport_var13_1y3',\n",
    "                    'num_var42_0',\n",
    "                    'imp_op_var40_ult1',\n",
    "                    'num_var22_ult1',\n",
    "                    'saldo_var5',\n",
    "                    'num_op_var40_ult1',\n",
    "                    'imp_aport_var13_ult1',\n",
    "                    'saldo_var42', 'ind_var39_0',\n",
    "                    'num_aport_var13_ult1',\n",
    "                    'var15']"
   ]
  },
  {
   "cell_type": "code",
   "execution_count": 29,
   "metadata": {
    "collapsed": false
   },
   "outputs": [
    {
     "name": "stdout",
     "output_type": "stream",
     "text": [
      "Started!\n"
     ]
    }
   ],
   "source": [
    "print('Started!')\n",
    "df_train = pd.read_csv('Data/train.csv')\n",
    "df_test = pd.read_csv('Data/test.csv')\n"
   ]
  },
  {
   "cell_type": "code",
   "execution_count": 42,
   "metadata": {
    "collapsed": true
   },
   "outputs": [],
   "source": [
    "num_rounds = 15000\n",
    "params = {}\n",
    "params[\"objective\"] = \"binary:logistic\"\n",
    "params[\"eta\"] = 0.02\n",
    "params[\"subsample\"] = 0.8\n",
    "params[\"colsample_bytree\"] = 0.7\n",
    "params[\"silent\"] = 1\n",
    "params[\"max_depth\"] = 6\n",
    "params[\"eval_metric\"] = \"auc\""
   ]
  },
  {
   "cell_type": "code",
   "execution_count": 43,
   "metadata": {
    "collapsed": false
   },
   "outputs": [],
   "source": [
    "\n",
    "X_fit, X_eval, y_fit, y_eval = train_test_split(df_train[nineteenfeatures], df_train.TARGET.values, test_size=0.3, random_state = 84)\n"
   ]
  },
  {
   "cell_type": "code",
   "execution_count": null,
   "metadata": {
    "collapsed": false
   },
   "outputs": [],
   "source": [
    "dfit = xgb.DMatrix(X_fit,\n",
    "                   y_fit,\n",
    "                   silent=True)\n",
    "\n",
    "deval = xgb.DMatrix(X_eval,\n",
    "                    y_eval,\n",
    "                    silent=True)\n",
    "\n",
    "dtrain = xgb.DMatrix(df_train[nineteenfeatures],\n",
    "                         silent=True)\n",
    "\n",
    "clf = xgb.train(params, dfit, num_rounds,\n",
    "                    verbose_eval=True)\n",
    "\n",
    "y_pred = clf.predict(dtrain)\n",
    "print('Log Loss:', log_loss(df_train.TARGET.values, y_pred))\n",
    "print('ROC:', roc_auc_score(df_train.TARGET.values, y_pred))\n",
    "print('ROC:', roc_auc_score(y_eval, clf.predict(deval)))\n"
   ]
  },
  {
   "cell_type": "code",
   "execution_count": 34,
   "metadata": {
    "collapsed": true
   },
   "outputs": [],
   "source": [
    "xgb??"
   ]
  },
  {
   "cell_type": "code",
   "execution_count": 33,
   "metadata": {
    "collapsed": false
   },
   "outputs": [
    {
     "name": "stdout",
     "output_type": "stream",
     "text": [
      "Completed!\n"
     ]
    }
   ],
   "source": [
    "dtest = xgb.DMatrix(df_test[nineteenfeatures],\n",
    "                        silent=True)\n",
    "\n",
    "y_pred = clf.predict(dtest)\n",
    "submission = pd.DataFrame({\"ID\": df_test.ID, \"TARGET\": y_pred})\n",
    "submission.fillna((df_train.TARGET == 1).sum() /\n",
    "                      (df_train.TARGET == 0).sum(),\n",
    "                      inplace=True)\n",
    "submission.to_csv(\"predictions/xgbsubmission_19feat.csv\", index=False)\n",
    "print('Completed!')"
   ]
  },
  {
   "cell_type": "code",
   "execution_count": null,
   "metadata": {
    "collapsed": true
   },
   "outputs": [],
   "source": []
  }
 ],
 "metadata": {
  "kernelspec": {
   "display_name": "Python 2",
   "language": "python",
   "name": "python2"
  },
  "language_info": {
   "codemirror_mode": {
    "name": "ipython",
    "version": 2
   },
   "file_extension": ".py",
   "mimetype": "text/x-python",
   "name": "python",
   "nbconvert_exporter": "python",
   "pygments_lexer": "ipython2",
   "version": "2.7.11"
  }
 },
 "nbformat": 4,
 "nbformat_minor": 0
}
